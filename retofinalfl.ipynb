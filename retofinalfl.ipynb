{
 "cells": [
  {
   "cell_type": "code",
   "execution_count": 2,
   "metadata": {},
   "outputs": [],
   "source": [
    "#Se importaron las librerías con las que se estará trabajando\n",
    "import pandas as pd\n",
    "import numpy as np\n",
    "import matplotlib.pyplot as plt\n",
    "from scipy import stats\n",
    "import statistics as st"
   ]
  },
  {
   "cell_type": "code",
   "execution_count": 3,
   "metadata": {},
   "outputs": [],
   "source": [
    "#Se lee el dataset con el que se estará trabajando y se le llama df\n",
    "df= pd.read_csv(\"florida.csv\")"
   ]
  },
  {
   "cell_type": "code",
   "execution_count": 4,
   "metadata": {},
   "outputs": [],
   "source": [
    "#Se eliminan las columnas que no se estarán utilizando para el análisis o que son muy repetitivas en relación a otras variables\n",
    "df = df.drop([\"listing_url\",\"scrape_id\",\"last_scraped\",\"source\",\"name\",\"description\",\"neighborhood_overview\",\n",
    "\"host_listings_count\",\"host_total_listings_count\",\n",
    "\"picture_url\",\"host_url\",\"host_name\",\"host_since\",\"host_about\",\n",
    "\"host_thumbnail_url\",\"host_picture_url\",\"neighbourhood_group_cleansed\",\n",
    "\"bathrooms\",\"minimum_minimum_nights\",\"maximum_minimum_nights\",\"minimum_maximum_nights\",\"maximum_maximum_nights\",\n",
    "\"calendar_updated\",\"calendar_last_scraped\",\"number_of_reviews\",\"number_of_reviews_l30d\",\"first_review\",\n",
    "\"last_review\",\"license\",\"calculated_host_listings_count_entire_homes\",\n",
    "\"calculated_host_listings_count_private_rooms\",\"calculated_host_listings_count_shared_rooms\",\"neighbourhood\"], axis=1)"
   ]
  },
  {
   "cell_type": "code",
   "execution_count": 5,
   "metadata": {},
   "outputs": [
    {
     "data": {
      "text/plain": [
       "array(['id', 'host_id', 'host_location', 'host_response_time',\n",
       "       'host_response_rate', 'host_acceptance_rate', 'host_is_superhost',\n",
       "       'host_neighbourhood', 'host_verifications', 'host_has_profile_pic',\n",
       "       'host_identity_verified', 'neighbourhood_cleansed', 'latitude',\n",
       "       'longitude', 'property_type', 'room_type', 'accommodates',\n",
       "       'bathrooms_text', 'bedrooms', 'beds', 'amenities', 'price',\n",
       "       'minimum_nights', 'maximum_nights', 'minimum_nights_avg_ntm',\n",
       "       'maximum_nights_avg_ntm', 'has_availability', 'availability_30',\n",
       "       'availability_60', 'availability_90', 'availability_365',\n",
       "       'number_of_reviews_ltm', 'review_scores_rating',\n",
       "       'review_scores_accuracy', 'review_scores_cleanliness',\n",
       "       'review_scores_checkin', 'review_scores_communication',\n",
       "       'review_scores_location', 'review_scores_value',\n",
       "       'instant_bookable', 'calculated_host_listings_count',\n",
       "       'reviews_per_month'], dtype=object)"
      ]
     },
     "execution_count": 5,
     "metadata": {},
     "output_type": "execute_result"
    }
   ],
   "source": [
    "#Se verifica la eliminación de las columnas\n",
    "df.columns.values"
   ]
  },
  {
   "cell_type": "code",
   "execution_count": 6,
   "metadata": {},
   "outputs": [],
   "source": [
    "#Se elimina el texto de la variable \"bathrooms_text\" para hacerla cuantitativa, se renombra la variable\n",
    "df[\"bathrooms_text\"]=df[\"bathrooms_text\"].str.split(\" \",1).str[0]\n",
    "df=df.rename(columns={\"bathrooms_text\":\"bathrooms\"})"
   ]
  },
  {
   "cell_type": "code",
   "execution_count": 7,
   "metadata": {},
   "outputs": [
    {
     "data": {
      "text/plain": [
       "array(['2', '1', '3', '2.5', '3.5', nan, '1.5', '4', '5', '4.5', '0', '8',\n",
       "       '5.5', '20', '6.5', '6', '7.5', '7', '10', 'Shared', 'Half-bath',\n",
       "       '17', '9', 'Private', '11.5', '12', '9.5'], dtype=object)"
      ]
     },
     "execution_count": 7,
     "metadata": {},
     "output_type": "execute_result"
    }
   ],
   "source": [
    "#Se utiliza la función unique para encontrar el texto existente que se debe reemplazar\n",
    "df[\"bathrooms\"].unique()"
   ]
  },
  {
   "cell_type": "code",
   "execution_count": 8,
   "metadata": {},
   "outputs": [],
   "source": [
    "#Se crea un diccionario para reemplazar el texto de la variable\n",
    "bath_dict={\n",
    "    \"Half-bath\":0.5,\n",
    "    \"Shared\":0.5,\n",
    "    \"Private\":0.5\n",
    "}"
   ]
  },
  {
   "cell_type": "code",
   "execution_count": 9,
   "metadata": {},
   "outputs": [],
   "source": [
    "#Se reemplazan los valores del diccionario por numéricos\n",
    "df=df.replace({\"bathrooms\":bath_dict})\n",
    "df[\"bathrooms\"]=df[\"bathrooms\"].str.replace(\" \",\"\")"
   ]
  },
  {
   "cell_type": "code",
   "execution_count": 10,
   "metadata": {},
   "outputs": [],
   "source": [
    "#Se convierte la variable a numérica para poder trabajar con ella\n",
    "df['bathrooms'] = df['bathrooms'].astype(float)"
   ]
  },
  {
   "cell_type": "code",
   "execution_count": 11,
   "metadata": {},
   "outputs": [],
   "source": [
    "#Se rellenan los valores nulos de las columnas \"host_location\" y \"host_neighbourhood\" con \"Unknown\" para continuar con el formato del set de datos\n",
    "df[\"host_location\"]= df[\"host_location\"].fillna(\"Unknown\") \n",
    "df[\"host_neighbourhood\"]= df[\"host_neighbourhood\"].fillna(\"Unknown\")"
   ]
  },
  {
   "cell_type": "code",
   "execution_count": 12,
   "metadata": {},
   "outputs": [
    {
     "data": {
      "text/plain": [
       "id                                   0\n",
       "host_id                              0\n",
       "host_location                        0\n",
       "host_response_time                1587\n",
       "host_response_rate                1587\n",
       "host_acceptance_rate               904\n",
       "host_is_superhost                    5\n",
       "host_neighbourhood                   0\n",
       "host_verifications                   0\n",
       "host_has_profile_pic                11\n",
       "host_identity_verified              11\n",
       "neighbourhood_cleansed               0\n",
       "latitude                             0\n",
       "longitude                            0\n",
       "property_type                        0\n",
       "room_type                            0\n",
       "accommodates                         0\n",
       "bathrooms                           21\n",
       "bedrooms                          1323\n",
       "beds                               189\n",
       "amenities                            0\n",
       "price                                0\n",
       "minimum_nights                       0\n",
       "maximum_nights                       0\n",
       "minimum_nights_avg_ntm               0\n",
       "maximum_nights_avg_ntm               0\n",
       "has_availability                     0\n",
       "availability_30                      0\n",
       "availability_60                      0\n",
       "availability_90                      0\n",
       "availability_365                     0\n",
       "number_of_reviews_ltm                0\n",
       "review_scores_rating              3148\n",
       "review_scores_accuracy            3194\n",
       "review_scores_cleanliness         3194\n",
       "review_scores_checkin             3195\n",
       "review_scores_communication       3194\n",
       "review_scores_location            3195\n",
       "review_scores_value               3195\n",
       "instant_bookable                     0\n",
       "calculated_host_listings_count       0\n",
       "reviews_per_month                 3148\n",
       "dtype: int64"
      ]
     },
     "execution_count": 12,
     "metadata": {},
     "output_type": "execute_result"
    }
   ],
   "source": [
    "#Identificar valores nulos\n",
    "null=df.isnull().sum()\n",
    "null"
   ]
  },
  {
   "cell_type": "code",
   "execution_count": 13,
   "metadata": {},
   "outputs": [],
   "source": [
    "#Se rellenan los valores nulos de la columna \"host_response_time\" con \"no reviews yet\"\n",
    "df[\"host_response_time\"]= df[\"host_response_time\"].fillna(\"no reviews yet\") "
   ]
  },
  {
   "cell_type": "code",
   "execution_count": 14,
   "metadata": {},
   "outputs": [
    {
     "data": {
      "text/plain": [
       "id                                   0\n",
       "host_id                              0\n",
       "host_location                        0\n",
       "host_response_time                   0\n",
       "host_response_rate                1587\n",
       "host_acceptance_rate               904\n",
       "host_is_superhost                    5\n",
       "host_neighbourhood                   0\n",
       "host_verifications                   0\n",
       "host_has_profile_pic                11\n",
       "host_identity_verified              11\n",
       "neighbourhood_cleansed               0\n",
       "latitude                             0\n",
       "longitude                            0\n",
       "property_type                        0\n",
       "room_type                            0\n",
       "accommodates                         0\n",
       "bathrooms                           21\n",
       "bedrooms                          1323\n",
       "beds                               189\n",
       "amenities                            0\n",
       "price                                0\n",
       "minimum_nights                       0\n",
       "maximum_nights                       0\n",
       "minimum_nights_avg_ntm               0\n",
       "maximum_nights_avg_ntm               0\n",
       "has_availability                     0\n",
       "availability_30                      0\n",
       "availability_60                      0\n",
       "availability_90                      0\n",
       "availability_365                     0\n",
       "number_of_reviews_ltm                0\n",
       "review_scores_rating              3148\n",
       "review_scores_accuracy            3194\n",
       "review_scores_cleanliness         3194\n",
       "review_scores_checkin             3195\n",
       "review_scores_communication       3194\n",
       "review_scores_location            3195\n",
       "review_scores_value               3195\n",
       "instant_bookable                     0\n",
       "calculated_host_listings_count       0\n",
       "reviews_per_month                 3148\n",
       "dtype: int64"
      ]
     },
     "execution_count": 14,
     "metadata": {},
     "output_type": "execute_result"
    }
   ],
   "source": [
    "#Identificar valores nulos\n",
    "null=df.isnull().sum()\n",
    "null"
   ]
  },
  {
   "cell_type": "code",
   "execution_count": 15,
   "metadata": {},
   "outputs": [],
   "source": [
    "#Se rellenan los valores nulos de ambas columnas con 80%\n",
    "#A pesar de no ser un valor real se selecciona este método para poder obtener un panorama general \n",
    "df[\"host_response_rate\"]= df[\"host_response_rate\"].fillna(\"80%\") \n",
    "df[\"host_acceptance_rate\"]= df[\"host_acceptance_rate\"].fillna(\"80%\") "
   ]
  },
  {
   "cell_type": "code",
   "execution_count": 16,
   "metadata": {},
   "outputs": [
    {
     "data": {
      "text/plain": [
       "id                                   0\n",
       "host_id                              0\n",
       "host_location                        0\n",
       "host_response_time                   0\n",
       "host_response_rate                   0\n",
       "host_acceptance_rate                 0\n",
       "host_is_superhost                    5\n",
       "host_neighbourhood                   0\n",
       "host_verifications                   0\n",
       "host_has_profile_pic                11\n",
       "host_identity_verified              11\n",
       "neighbourhood_cleansed               0\n",
       "latitude                             0\n",
       "longitude                            0\n",
       "property_type                        0\n",
       "room_type                            0\n",
       "accommodates                         0\n",
       "bathrooms                           21\n",
       "bedrooms                          1323\n",
       "beds                               189\n",
       "amenities                            0\n",
       "price                                0\n",
       "minimum_nights                       0\n",
       "maximum_nights                       0\n",
       "minimum_nights_avg_ntm               0\n",
       "maximum_nights_avg_ntm               0\n",
       "has_availability                     0\n",
       "availability_30                      0\n",
       "availability_60                      0\n",
       "availability_90                      0\n",
       "availability_365                     0\n",
       "number_of_reviews_ltm                0\n",
       "review_scores_rating              3148\n",
       "review_scores_accuracy            3194\n",
       "review_scores_cleanliness         3194\n",
       "review_scores_checkin             3195\n",
       "review_scores_communication       3194\n",
       "review_scores_location            3195\n",
       "review_scores_value               3195\n",
       "instant_bookable                     0\n",
       "calculated_host_listings_count       0\n",
       "reviews_per_month                 3148\n",
       "dtype: int64"
      ]
     },
     "execution_count": 16,
     "metadata": {},
     "output_type": "execute_result"
    }
   ],
   "source": [
    "#Identificar valores nulos\n",
    "null=df.isnull().sum()\n",
    "null"
   ]
  },
  {
   "cell_type": "code",
   "execution_count": 17,
   "metadata": {},
   "outputs": [],
   "source": [
    "#Se rellenan los valores nulos de las columnas con \"f\" porque consideramos que es más probable que no sean superhosts y que por eso no se tenga esa información\n",
    "df[\"host_is_superhost\"]= df[\"host_is_superhost\"].fillna(\"f\") \n",
    "df[\"host_has_profile_pic\"]= df[\"host_has_profile_pic\"].fillna(\"f\")\n",
    "df[\"host_identity_verified\"]= df[\"host_identity_verified\"].fillna(\"f\") "
   ]
  },
  {
   "cell_type": "code",
   "execution_count": 18,
   "metadata": {},
   "outputs": [
    {
     "data": {
      "text/plain": [
       "id                                   0\n",
       "host_id                              0\n",
       "host_location                        0\n",
       "host_response_time                   0\n",
       "host_response_rate                   0\n",
       "host_acceptance_rate                 0\n",
       "host_is_superhost                    0\n",
       "host_neighbourhood                   0\n",
       "host_verifications                   0\n",
       "host_has_profile_pic                 0\n",
       "host_identity_verified               0\n",
       "neighbourhood_cleansed               0\n",
       "latitude                             0\n",
       "longitude                            0\n",
       "property_type                        0\n",
       "room_type                            0\n",
       "accommodates                         0\n",
       "bathrooms                           21\n",
       "bedrooms                          1323\n",
       "beds                               189\n",
       "amenities                            0\n",
       "price                                0\n",
       "minimum_nights                       0\n",
       "maximum_nights                       0\n",
       "minimum_nights_avg_ntm               0\n",
       "maximum_nights_avg_ntm               0\n",
       "has_availability                     0\n",
       "availability_30                      0\n",
       "availability_60                      0\n",
       "availability_90                      0\n",
       "availability_365                     0\n",
       "number_of_reviews_ltm                0\n",
       "review_scores_rating              3148\n",
       "review_scores_accuracy            3194\n",
       "review_scores_cleanliness         3194\n",
       "review_scores_checkin             3195\n",
       "review_scores_communication       3194\n",
       "review_scores_location            3195\n",
       "review_scores_value               3195\n",
       "instant_bookable                     0\n",
       "calculated_host_listings_count       0\n",
       "reviews_per_month                 3148\n",
       "dtype: int64"
      ]
     },
     "execution_count": 18,
     "metadata": {},
     "output_type": "execute_result"
    }
   ],
   "source": [
    "#Identificar valores nulos\n",
    "null=df.isnull().sum()\n",
    "null"
   ]
  },
  {
   "cell_type": "code",
   "execution_count": 19,
   "metadata": {},
   "outputs": [],
   "source": [
    "#Se rellenan los valores nulos de las columnas bathrooms, bedrooms y beds por la moda ya que será útil para el análisis general utilizar el número más repetido\n",
    "df[\"bedrooms\"] = df[\"bedrooms\"].fillna(df[\"bedrooms\"].mode()[0])\n",
    "df[\"beds\"] = df[\"beds\"].fillna(df[\"beds\"].mode()[0])\n",
    "df[\"bathrooms\"] = df[\"bathrooms\"].fillna(df[\"bathrooms\"].mode()[0])"
   ]
  },
  {
   "cell_type": "code",
   "execution_count": 20,
   "metadata": {},
   "outputs": [
    {
     "data": {
      "text/plain": [
       "id                                   0\n",
       "host_id                              0\n",
       "host_location                        0\n",
       "host_response_time                   0\n",
       "host_response_rate                   0\n",
       "host_acceptance_rate                 0\n",
       "host_is_superhost                    0\n",
       "host_neighbourhood                   0\n",
       "host_verifications                   0\n",
       "host_has_profile_pic                 0\n",
       "host_identity_verified               0\n",
       "neighbourhood_cleansed               0\n",
       "latitude                             0\n",
       "longitude                            0\n",
       "property_type                        0\n",
       "room_type                            0\n",
       "accommodates                         0\n",
       "bathrooms                            0\n",
       "bedrooms                             0\n",
       "beds                                 0\n",
       "amenities                            0\n",
       "price                                0\n",
       "minimum_nights                       0\n",
       "maximum_nights                       0\n",
       "minimum_nights_avg_ntm               0\n",
       "maximum_nights_avg_ntm               0\n",
       "has_availability                     0\n",
       "availability_30                      0\n",
       "availability_60                      0\n",
       "availability_90                      0\n",
       "availability_365                     0\n",
       "number_of_reviews_ltm                0\n",
       "review_scores_rating              3148\n",
       "review_scores_accuracy            3194\n",
       "review_scores_cleanliness         3194\n",
       "review_scores_checkin             3195\n",
       "review_scores_communication       3194\n",
       "review_scores_location            3195\n",
       "review_scores_value               3195\n",
       "instant_bookable                     0\n",
       "calculated_host_listings_count       0\n",
       "reviews_per_month                 3148\n",
       "dtype: int64"
      ]
     },
     "execution_count": 20,
     "metadata": {},
     "output_type": "execute_result"
    }
   ],
   "source": [
    "#Identificar valores nulos\n",
    "null=df.isnull().sum()\n",
    "null"
   ]
  },
  {
   "cell_type": "code",
   "execution_count": 21,
   "metadata": {},
   "outputs": [
    {
     "data": {
      "text/plain": [
       "<function matplotlib.pyplot.show(close=None, block=None)>"
      ]
     },
     "execution_count": 21,
     "metadata": {},
     "output_type": "execute_result"
    },
    {
     "data": {
      "image/png": "[encoded data removed]",
      "text/plain": [
       "<Figure size 432x288 with 1 Axes>"
      ]
     },
     "metadata": {
      "needs_background": "light"
     },
     "output_type": "display_data"
    }
   ],
   "source": [
    "#Se grafica un histograma con los datos de la columna para observar si los datos están distribuidos de manera normal\n",
    "#Se observa que no están distribuidos de manera normal\n",
    "plt.hist(df[\"review_scores_rating\"])\n",
    "plt.show"
   ]
  },
  {
   "cell_type": "code",
   "execution_count": 22,
   "metadata": {},
   "outputs": [
    {
     "data": {
      "text/plain": [
       "<function matplotlib.pyplot.show(close=None, block=None)>"
      ]
     },
     "execution_count": 22,
     "metadata": {},
     "output_type": "execute_result"
    },
    {
     "data": {
      "image/png": "[encoded data removed]",
      "text/plain": [
       "<Figure size 432x288 with 1 Axes>"
      ]
     },
     "metadata": {
      "needs_background": "light"
     },
     "output_type": "display_data"
    }
   ],
   "source": [
    "#Se grafica un histograma con los datos de la columna para observar si los datos están distribuidos de manera normal\n",
    "#Se observa que no están distribuidos de manera normal\n",
    "plt.hist(df[\"review_scores_accuracy\"])\n",
    "plt.show"
   ]
  },
  {
   "cell_type": "code",
   "execution_count": 23,
   "metadata": {},
   "outputs": [
    {
     "data": {
      "text/plain": [
       "<function matplotlib.pyplot.show(close=None, block=None)>"
      ]
     },
     "execution_count": 23,
     "metadata": {},
     "output_type": "execute_result"
    },
    {
     "data": {
      "image/png": "[encoded data removed]",
      "text/plain": [
       "<Figure size 432x288 with 1 Axes>"
      ]
     },
     "metadata": {
      "needs_background": "light"
     },
     "output_type": "display_data"
    }
   ],
   "source": [
    "#Se grafica un histograma con los datos de la columna para observar si los datos están distribuidos de manera normal\n",
    "#Se observa que no están distribuidos de manera normal\n",
    "plt.hist(df[\"review_scores_cleanliness\"])\n",
    "plt.show"
   ]
  },
  {
   "cell_type": "code",
   "execution_count": 24,
   "metadata": {},
   "outputs": [
    {
     "data": {
      "text/plain": [
       "<function matplotlib.pyplot.show(close=None, block=None)>"
      ]
     },
     "execution_count": 24,
     "metadata": {},
     "output_type": "execute_result"
    },
    {
     "data": {
      "image/png": "[encoded data removed]",
      "text/plain": [
       "<Figure size 432x288 with 1 Axes>"
      ]
     },
     "metadata": {
      "needs_background": "light"
     },
     "output_type": "display_data"
    }
   ],
   "source": [
    "#Se grafica un histograma con los datos de la columna para observar si los datos están distribuidos de manera normal\n",
    "#Se observa que no están distribuidos de manera normal\n",
    "plt.hist(df[\"review_scores_checkin\"])\n",
    "plt.show"
   ]
  },
  {
   "cell_type": "code",
   "execution_count": 25,
   "metadata": {},
   "outputs": [
    {
     "data": {
      "text/plain": [
       "<function matplotlib.pyplot.show(close=None, block=None)>"
      ]
     },
     "execution_count": 25,
     "metadata": {},
     "output_type": "execute_result"
    },
    {
     "data": {
      "image/png": "[encoded data removed]",
      "text/plain": [
       "<Figure size 432x288 with 1 Axes>"
      ]
     },
     "metadata": {
      "needs_background": "light"
     },
     "output_type": "display_data"
    }
   ],
   "source": [
    "#Se grafica un histograma con los datos de la columna para observar si los datos están distribuidos de manera normal\n",
    "#Se observa que no están distribuidos de manera normal\n",
    "plt.hist(df[\"review_scores_communication\"])\n",
    "plt.show"
   ]
  },
  {
   "cell_type": "code",
   "execution_count": 26,
   "metadata": {},
   "outputs": [
    {
     "data": {
      "text/plain": [
       "<function matplotlib.pyplot.show(close=None, block=None)>"
      ]
     },
     "execution_count": 26,
     "metadata": {},
     "output_type": "execute_result"
    },
    {
     "data": {
      "image/png": "[encoded data removed]",
      "text/plain": [
       "<Figure size 432x288 with 1 Axes>"
      ]
     },
     "metadata": {
      "needs_background": "light"
     },
     "output_type": "display_data"
    }
   ],
   "source": [
    "#Se grafica un histograma con los datos de la columna para observar si los datos están distribuidos de manera normal\n",
    "#Se observa que no están distribuidos de manera normal\n",
    "plt.hist(df[\"review_scores_location\"])\n",
    "plt.show"
   ]
  },
  {
   "cell_type": "code",
   "execution_count": 27,
   "metadata": {},
   "outputs": [
    {
     "data": {
      "text/plain": [
       "<function matplotlib.pyplot.show(close=None, block=None)>"
      ]
     },
     "execution_count": 27,
     "metadata": {},
     "output_type": "execute_result"
    },
    {
     "data": {
      "image/png": "[encoded data removed]",
      "text/plain": [
       "<Figure size 432x288 with 1 Axes>"
      ]
     },
     "metadata": {
      "needs_background": "light"
     },
     "output_type": "display_data"
    }
   ],
   "source": [
    "#Se grafica un histograma con los datos de la columna para observar si los datos están distribuidos de manera normal\n",
    "#Se observa que no están distribuidos de manera normal\n",
    "plt.hist(df[\"review_scores_value\"])\n",
    "plt.show"
   ]
  },
  {
   "cell_type": "code",
   "execution_count": 28,
   "metadata": {},
   "outputs": [
    {
     "data": {
      "text/plain": [
       "<function matplotlib.pyplot.show(close=None, block=None)>"
      ]
     },
     "execution_count": 28,
     "metadata": {},
     "output_type": "execute_result"
    },
    {
     "data": {
      "image/png": "[encoded data removed]",
      "text/plain": [
       "<Figure size 432x288 with 1 Axes>"
      ]
     },
     "metadata": {
      "needs_background": "light"
     },
     "output_type": "display_data"
    }
   ],
   "source": [
    "#Se grafica un histograma con los datos de la columna para observar si los datos están distribuidos de manera normal\n",
    "#Se observa que no están distribuidos de manera normal\n",
    "plt.hist(df[\"review_scores_value\"])\n",
    "plt.show"
   ]
  },
  {
   "cell_type": "code",
   "execution_count": 29,
   "metadata": {},
   "outputs": [],
   "source": [
    "#Se rellenan los valores de las columnas indicadas por la mediana ya que los datos están sezgados hacia la derecha, como es visto en los histogramas \n",
    "df[\"review_scores_rating\"]=df[\"review_scores_rating\"].fillna(round(df[\"review_scores_rating\"].median(),2))\n",
    "df[\"review_scores_accuracy\"]=df[\"review_scores_accuracy\"].fillna(round(df[\"review_scores_accuracy\"].median(),2))\n",
    "df[\"review_scores_cleanliness\"]=df[\"review_scores_cleanliness\"].fillna(round(df[\"review_scores_cleanliness\"].median(),2))\n",
    "df[\"review_scores_checkin\"]=df[\"review_scores_checkin\"].fillna(round(df[\"review_scores_checkin\"].median(),2))\n",
    "df[\"review_scores_communication\"]=df[\"review_scores_communication\"].fillna(round(df[\"review_scores_communication\"].median(),2))\n",
    "df[\"review_scores_location\"]=df[\"review_scores_location\"].fillna(round(df[\"review_scores_location\"].median(),2))\n",
    "df[\"review_scores_value\"]=df[\"review_scores_value\"].fillna(round(df[\"review_scores_value\"].median(),2))"
   ]
  },
  {
   "cell_type": "code",
   "execution_count": 30,
   "metadata": {},
   "outputs": [
    {
     "data": {
      "text/plain": [
       "id                                   0\n",
       "host_id                              0\n",
       "host_location                        0\n",
       "host_response_time                   0\n",
       "host_response_rate                   0\n",
       "host_acceptance_rate                 0\n",
       "host_is_superhost                    0\n",
       "host_neighbourhood                   0\n",
       "host_verifications                   0\n",
       "host_has_profile_pic                 0\n",
       "host_identity_verified               0\n",
       "neighbourhood_cleansed               0\n",
       "latitude                             0\n",
       "longitude                            0\n",
       "property_type                        0\n",
       "room_type                            0\n",
       "accommodates                         0\n",
       "bathrooms                            0\n",
       "bedrooms                             0\n",
       "beds                                 0\n",
       "amenities                            0\n",
       "price                                0\n",
       "minimum_nights                       0\n",
       "maximum_nights                       0\n",
       "minimum_nights_avg_ntm               0\n",
       "maximum_nights_avg_ntm               0\n",
       "has_availability                     0\n",
       "availability_30                      0\n",
       "availability_60                      0\n",
       "availability_90                      0\n",
       "availability_365                     0\n",
       "number_of_reviews_ltm                0\n",
       "review_scores_rating                 0\n",
       "review_scores_accuracy               0\n",
       "review_scores_cleanliness            0\n",
       "review_scores_checkin                0\n",
       "review_scores_communication          0\n",
       "review_scores_location               0\n",
       "review_scores_value                  0\n",
       "instant_bookable                     0\n",
       "calculated_host_listings_count       0\n",
       "reviews_per_month                 3148\n",
       "dtype: int64"
      ]
     },
     "execution_count": 30,
     "metadata": {},
     "output_type": "execute_result"
    }
   ],
   "source": [
    "#Identificar valores nulos\n",
    "null=df.isnull().sum()\n",
    "null"
   ]
  },
  {
   "cell_type": "code",
   "execution_count": 31,
   "metadata": {},
   "outputs": [],
   "source": [
    "#Se rellenan los valores nulos por 0 ya que al observar el dataset y compararlo con otras columnas los valores nulos generalmente están en los registros en los que no hay reseñas.\n",
    "# Por ende, se asume que no se han hecho reseñas y que no tienen ninguna reseña por mes \n",
    "df[\"reviews_per_month\"]= df[\"reviews_per_month\"].fillna(\"0\") "
   ]
  },
  {
   "cell_type": "code",
   "execution_count": 32,
   "metadata": {},
   "outputs": [
    {
     "data": {
      "text/plain": [
       "id                                0\n",
       "host_id                           0\n",
       "host_location                     0\n",
       "host_response_time                0\n",
       "host_response_rate                0\n",
       "host_acceptance_rate              0\n",
       "host_is_superhost                 0\n",
       "host_neighbourhood                0\n",
       "host_verifications                0\n",
       "host_has_profile_pic              0\n",
       "host_identity_verified            0\n",
       "neighbourhood_cleansed            0\n",
       "latitude                          0\n",
       "longitude                         0\n",
       "property_type                     0\n",
       "room_type                         0\n",
       "accommodates                      0\n",
       "bathrooms                         0\n",
       "bedrooms                          0\n",
       "beds                              0\n",
       "amenities                         0\n",
       "price                             0\n",
       "minimum_nights                    0\n",
       "maximum_nights                    0\n",
       "minimum_nights_avg_ntm            0\n",
       "maximum_nights_avg_ntm            0\n",
       "has_availability                  0\n",
       "availability_30                   0\n",
       "availability_60                   0\n",
       "availability_90                   0\n",
       "availability_365                  0\n",
       "number_of_reviews_ltm             0\n",
       "review_scores_rating              0\n",
       "review_scores_accuracy            0\n",
       "review_scores_cleanliness         0\n",
       "review_scores_checkin             0\n",
       "review_scores_communication       0\n",
       "review_scores_location            0\n",
       "review_scores_value               0\n",
       "instant_bookable                  0\n",
       "calculated_host_listings_count    0\n",
       "reviews_per_month                 0\n",
       "dtype: int64"
      ]
     },
     "execution_count": 32,
     "metadata": {},
     "output_type": "execute_result"
    }
   ],
   "source": [
    "#Identificar valores nulos\n",
    "null=df.isnull().sum()\n",
    "null"
   ]
  },
  {
   "cell_type": "code",
   "execution_count": 33,
   "metadata": {},
   "outputs": [
    {
     "data": {
      "text/plain": [
       "0"
      ]
     },
     "execution_count": 33,
     "metadata": {},
     "output_type": "execute_result"
    }
   ],
   "source": [
    "#Asegurar que ya no hay datos nulos en toda la base de datos\n",
    "total_null= df.isnull().sum().sum()\n",
    "total_null"
   ]
  },
  {
   "cell_type": "code",
   "execution_count": 34,
   "metadata": {},
   "outputs": [
    {
     "data": {
      "text/plain": [
       "id                                  int64\n",
       "host_id                             int64\n",
       "host_location                      object\n",
       "host_response_time                 object\n",
       "host_response_rate                 object\n",
       "host_acceptance_rate               object\n",
       "host_is_superhost                  object\n",
       "host_neighbourhood                 object\n",
       "host_verifications                 object\n",
       "host_has_profile_pic               object\n",
       "host_identity_verified             object\n",
       "neighbourhood_cleansed             object\n",
       "latitude                          float64\n",
       "longitude                         float64\n",
       "property_type                      object\n",
       "room_type                          object\n",
       "accommodates                        int64\n",
       "bathrooms                         float64\n",
       "bedrooms                          float64\n",
       "beds                              float64\n",
       "amenities                          object\n",
       "price                              object\n",
       "minimum_nights                      int64\n",
       "maximum_nights                      int64\n",
       "minimum_nights_avg_ntm            float64\n",
       "maximum_nights_avg_ntm            float64\n",
       "has_availability                   object\n",
       "availability_30                     int64\n",
       "availability_60                     int64\n",
       "availability_90                     int64\n",
       "availability_365                    int64\n",
       "number_of_reviews_ltm               int64\n",
       "review_scores_rating              float64\n",
       "review_scores_accuracy            float64\n",
       "review_scores_cleanliness         float64\n",
       "review_scores_checkin             float64\n",
       "review_scores_communication       float64\n",
       "review_scores_location            float64\n",
       "review_scores_value               float64\n",
       "instant_bookable                   object\n",
       "calculated_host_listings_count      int64\n",
       "reviews_per_month                  object\n",
       "dtype: object"
      ]
     },
     "execution_count": 34,
     "metadata": {},
     "output_type": "execute_result"
    }
   ],
   "source": [
    "df.dtypes"
   ]
  },
  {
   "cell_type": "code",
   "execution_count": 35,
   "metadata": {},
   "outputs": [],
   "source": [
    "#Se eliminan los signos de % de las columnas para que sean numéricas\n",
    "df[\"host_response_rate\"]=df[\"host_response_rate\"].str.rstrip(\"%\").astype(\"float\")/100.0\n",
    "df[\"host_acceptance_rate\"]=df[\"host_acceptance_rate\"].str.rstrip(\"%\").astype(\"float\")/100.0"
   ]
  },
  {
   "cell_type": "code",
   "execution_count": 36,
   "metadata": {},
   "outputs": [
    {
     "name": "stderr",
     "output_type": "stream",
     "text": [
      "/var/folders/h7/3hswkg9n4t7_f3vwwzsc1gv40000gn/T/ipykernel_31920/2004568266.py:2: FutureWarning: The default value of regex will change from True to False in a future version. In addition, single character regular expressions will *not* be treated as literal strings when regex=True.\n",
      "  df[\"price\"] = df[\"price\"].str.replace('$', '')\n"
     ]
    }
   ],
   "source": [
    "#Se transforma la variable de precio a numérica quitando los signos de pesos y las comas. \n",
    "df[\"price\"] = df[\"price\"].str.replace('$', '')\n",
    "df[\"price\"]= df[\"price\"].replace(',','', regex=True)\n",
    "df[\"price\"] = pd.to_numeric(df[\"price\"])"
   ]
  },
  {
   "cell_type": "code",
   "execution_count": 37,
   "metadata": {},
   "outputs": [],
   "source": [
    "#Cambiamos el tipo de dato a numérico\n",
    "df[\"reviews_per_month\"] = pd.to_numeric(df[\"reviews_per_month\"])"
   ]
  },
  {
   "cell_type": "code",
   "execution_count": 38,
   "metadata": {},
   "outputs": [
    {
     "data": {
      "image/png": "[encoded data removed]",
      "text/plain": [
       "<Figure size 216x144 with 1 Axes>"
      ]
     },
     "metadata": {
      "needs_background": "light"
     },
     "output_type": "display_data"
    },
    {
     "data": {
      "image/png": "[encoded data removed]",
      "text/plain": [
       "<Figure size 216x144 with 1 Axes>"
      ]
     },
     "metadata": {
      "needs_background": "light"
     },
     "output_type": "display_data"
    },
    {
     "data": {
      "image/png": "[encoded data removed]",
      "text/plain": [
       "<Figure size 216x144 with 1 Axes>"
      ]
     },
     "metadata": {
      "needs_background": "light"
     },
     "output_type": "display_data"
    }
   ],
   "source": [
    "#Realizamos diagramas de caja para identificar outliers, a través de los diagramas se puede observar que hay valores atípicos\n",
    "#en todas las columnas\n",
    "fig1 = plt.figure(figsize =(3, 2))\n",
    "plt.boxplot(df[\"host_response_rate\"]) \n",
    "plt.title(\"Outliers columna host_response_rate\")\n",
    "plt.show() \n",
    "\n",
    "\n",
    "fig2 = plt.figure(figsize =(3, 2))\n",
    "plt.boxplot(df[\"host_acceptance_rate\"]) \n",
    "plt.title(\"Outliers columna host_acceptance_rate\")\n",
    "plt.show() \n",
    "\n",
    "fig3 = plt.figure(figsize =(3, 2))\n",
    "plt.boxplot(df[\"accommodates\"]) \n",
    "plt.title(\"Outliers columna accommodates\")\n",
    "plt.show() "
   ]
  },
  {
   "cell_type": "code",
   "execution_count": 39,
   "metadata": {},
   "outputs": [
    {
     "data": {
      "image/png": "[encoded data removed]",
      "text/plain": [
       "<Figure size 216x144 with 1 Axes>"
      ]
     },
     "metadata": {
      "needs_background": "light"
     },
     "output_type": "display_data"
    },
    {
     "data": {
      "image/png": "[encoded data removed]",
      "text/plain": [
       "<Figure size 216x144 with 1 Axes>"
      ]
     },
     "metadata": {
      "needs_background": "light"
     },
     "output_type": "display_data"
    },
    {
     "data": {
      "image/png": "[encoded data removed]",
      "text/plain": [
       "<Figure size 216x144 with 1 Axes>"
      ]
     },
     "metadata": {
      "needs_background": "light"
     },
     "output_type": "display_data"
    }
   ],
   "source": [
    "#Realizamos diagramas de caja para identificar outliers, a través de los diagramas se puede observar que hay valores atípicos\n",
    "#en todas las columnas\n",
    "fig1 = plt.figure(figsize =(3, 2))\n",
    "plt.boxplot(df[\"bathrooms\"]) \n",
    "plt.title(\"Outliers columna bathrooms\")\n",
    "plt.show() \n",
    "\n",
    "\n",
    "fig2 = plt.figure(figsize =(3, 2))\n",
    "plt.boxplot(df[\"beds\"]) \n",
    "plt.title(\"Outliers columna beds\")\n",
    "plt.show() \n",
    "\n",
    "fig3 = plt.figure(figsize =(3, 2))\n",
    "plt.boxplot(df[\"bedrooms\"]) \n",
    "plt.title(\"Outliers columna bedrooms\")\n",
    "plt.show() "
   ]
  },
  {
   "cell_type": "code",
   "execution_count": 40,
   "metadata": {},
   "outputs": [
    {
     "data": {
      "image/png": "[encoded data removed]",
      "text/plain": [
       "<Figure size 216x144 with 1 Axes>"
      ]
     },
     "metadata": {
      "needs_background": "light"
     },
     "output_type": "display_data"
    },
    {
     "data": {
      "image/png": "[encoded data removed]",
      "text/plain": [
       "<Figure size 216x144 with 1 Axes>"
      ]
     },
     "metadata": {
      "needs_background": "light"
     },
     "output_type": "display_data"
    },
    {
     "data": {
      "image/png": "[encoded data removed]",
      "text/plain": [
       "<Figure size 216x144 with 1 Axes>"
      ]
     },
     "metadata": {
      "needs_background": "light"
     },
     "output_type": "display_data"
    }
   ],
   "source": [
    "#Realizamos diagramas de caja para identificar outliers, a través de los diagramas se puede observar que hay valores atípicos\n",
    "#en todas las columnas\n",
    "fig1 = plt.figure(figsize =(3, 2))\n",
    "plt.boxplot(df[\"price\"]) \n",
    "plt.title(\"Outliers columna price\")\n",
    "plt.show() \n",
    "\n",
    "\n",
    "fig2 = plt.figure(figsize =(3, 2))\n",
    "plt.boxplot(df[\"minimum_nights\"]) \n",
    "plt.title(\"Outliers columna minimum_nights\")\n",
    "plt.show() \n",
    "\n",
    "fig3 = plt.figure(figsize =(3, 2))\n",
    "plt.boxplot(df[\"maximum_nights\"]) \n",
    "plt.title(\"Outliers columna maximum_nights\")\n",
    "plt.show() "
   ]
  },
  {
   "cell_type": "code",
   "execution_count": 41,
   "metadata": {},
   "outputs": [
    {
     "data": {
      "image/png": "[encoded data removed]",
      "text/plain": [
       "<Figure size 216x144 with 1 Axes>"
      ]
     },
     "metadata": {
      "needs_background": "light"
     },
     "output_type": "display_data"
    },
    {
     "data": {
      "image/png": "[encoded data removed]",
      "text/plain": [
       "<Figure size 216x144 with 1 Axes>"
      ]
     },
     "metadata": {
      "needs_background": "light"
     },
     "output_type": "display_data"
    },
    {
     "data": {
      "image/png": "[encoded data removed]",
      "text/plain": [
       "<Figure size 216x144 with 1 Axes>"
      ]
     },
     "metadata": {
      "needs_background": "light"
     },
     "output_type": "display_data"
    }
   ],
   "source": [
    "#Realizamos diagramas de caja para identificar outliers, a través de los diagramas se puede observar que hay valores atípicos\n",
    "#en todas las columnas excepto en la de disponibilidad 30\n",
    "fig1 = plt.figure(figsize =(3, 2))\n",
    "plt.boxplot(df[\"minimum_nights_avg_ntm\"]) \n",
    "plt.title(\"Outliers columna minimum_nights_avg_ntm\")\n",
    "plt.show() \n",
    "\n",
    "\n",
    "fig2 = plt.figure(figsize =(3, 2))\n",
    "plt.boxplot(df[\"maximum_nights_avg_ntm\"]) \n",
    "plt.title(\"Outliers columna maximum_nights_avg_ntm\")\n",
    "plt.show() \n",
    "\n",
    "fig3 = plt.figure(figsize =(3, 2))\n",
    "plt.boxplot(df[\"availability_30\"]) \n",
    "plt.title(\"Outliers columna availability_30\")\n",
    "plt.show() "
   ]
  },
  {
   "cell_type": "code",
   "execution_count": 42,
   "metadata": {},
   "outputs": [
    {
     "data": {
      "image/png": "[encoded data removed]",
      "text/plain": [
       "<Figure size 216x144 with 1 Axes>"
      ]
     },
     "metadata": {
      "needs_background": "light"
     },
     "output_type": "display_data"
    },
    {
     "data": {
      "image/png": "[encoded data removed]",
      "text/plain": [
       "<Figure size 216x144 with 1 Axes>"
      ]
     },
     "metadata": {
      "needs_background": "light"
     },
     "output_type": "display_data"
    },
    {
     "data": {
      "image/png": "[encoded data removed]",
      "text/plain": [
       "<Figure size 216x144 with 1 Axes>"
      ]
     },
     "metadata": {
      "needs_background": "light"
     },
     "output_type": "display_data"
    }
   ],
   "source": [
    "#Realizamos diagramas de caja para identificar outliers, a través de los diagramas se puede observar que no hay valores atípicos\n",
    "fig1 = plt.figure(figsize =(3, 2))\n",
    "plt.boxplot(df[\"availability_60\"]) \n",
    "plt.title(\"Outliers columna availability_60\")\n",
    "plt.show() \n",
    "\n",
    "\n",
    "fig2 = plt.figure(figsize =(3, 2))\n",
    "plt.boxplot(df[\"availability_90\"]) \n",
    "plt.title(\"Outliers columna availability_90\")\n",
    "plt.show() \n",
    "\n",
    "fig3 = plt.figure(figsize =(3, 2))\n",
    "plt.boxplot(df[\"availability_365\"]) \n",
    "plt.title(\"Outliers columna availability_365\")\n",
    "plt.show() "
   ]
  },
  {
   "cell_type": "code",
   "execution_count": 43,
   "metadata": {},
   "outputs": [
    {
     "data": {
      "image/png": "[encoded data removed]",
      "text/plain": [
       "<Figure size 216x144 with 1 Axes>"
      ]
     },
     "metadata": {
      "needs_background": "light"
     },
     "output_type": "display_data"
    },
    {
     "data": {
      "image/png": "[encoded data removed]",
      "text/plain": [
       "<Figure size 216x144 with 1 Axes>"
      ]
     },
     "metadata": {
      "needs_background": "light"
     },
     "output_type": "display_data"
    },
    {
     "data": {
      "image/png": "[encoded data removed]",
      "text/plain": [
       "<Figure size 216x144 with 1 Axes>"
      ]
     },
     "metadata": {
      "needs_background": "light"
     },
     "output_type": "display_data"
    }
   ],
   "source": [
    "#Realizamos diagramas de caja para identificar outliers, a través de los diagramas se puede observar que hay valores atípicos\n",
    "#en todas las columnas, de cualquier manera, se tomo la decisión de no reemplazar los valores atípicos de las variables de \n",
    "#reviews ya que están en el rango del 1-5\n",
    "fig1 = plt.figure(figsize =(3, 2))\n",
    "plt.boxplot(df[\"number_of_reviews_ltm\"]) \n",
    "plt.title(\"Outliers columna number_of_reviews_ltm\")\n",
    "plt.show() \n",
    "\n",
    "\n",
    "fig2 = plt.figure(figsize =(3, 2))\n",
    "plt.boxplot(df[\"review_scores_rating\"]) \n",
    "plt.title(\"Outliers columna review_scores_rating\")\n",
    "plt.show() \n",
    "\n",
    "fig3 = plt.figure(figsize =(3, 2))\n",
    "plt.boxplot(df[\"review_scores_accuracy\"]) \n",
    "plt.title(\"Outliers columna review_scores_accuracy\")\n",
    "plt.show() "
   ]
  },
  {
   "cell_type": "code",
   "execution_count": 44,
   "metadata": {},
   "outputs": [
    {
     "data": {
      "image/png": "[encoded data removed]",
      "text/plain": [
       "<Figure size 216x144 with 1 Axes>"
      ]
     },
     "metadata": {
      "needs_background": "light"
     },
     "output_type": "display_data"
    },
    {
     "data": {
      "image/png": "[encoded data removed]",
      "text/plain": [
       "<Figure size 216x144 with 1 Axes>"
      ]
     },
     "metadata": {
      "needs_background": "light"
     },
     "output_type": "display_data"
    },
    {
     "data": {
      "image/png": "[encoded data removed]",
      "text/plain": [
       "<Figure size 216x144 with 1 Axes>"
      ]
     },
     "metadata": {
      "needs_background": "light"
     },
     "output_type": "display_data"
    }
   ],
   "source": [
    "#Realizamos diagramas de caja para identificar outliers, a través de los diagramas se puede observar que hay valores atípicos\n",
    "#en todas las columnas, de cualquier manera, se tomo la decisión de no reemplazar los valores atípicos de las variables de \n",
    "#reviews ya que están en el rango del 1-5\n",
    "fig1 = plt.figure(figsize =(3, 2))\n",
    "plt.boxplot(df[\"review_scores_cleanliness\"]) \n",
    "plt.title(\"Outliers columna review_scores_cleanliness\")\n",
    "plt.show() \n",
    "\n",
    "\n",
    "fig2 = plt.figure(figsize =(3, 2))\n",
    "plt.boxplot(df[\"review_scores_checkin\"]) \n",
    "plt.title(\"Outliers columna review_scores_checkin\")\n",
    "plt.show() \n",
    "\n",
    "fig3 = plt.figure(figsize =(3, 2))\n",
    "plt.boxplot(df[\"review_scores_communication\"]) \n",
    "plt.title(\"Outliers columna review_scores_communication\")\n",
    "plt.show() "
   ]
  },
  {
   "cell_type": "code",
   "execution_count": 45,
   "metadata": {},
   "outputs": [
    {
     "data": {
      "image/png": "[encoded data removed]",
      "text/plain": [
       "<Figure size 216x144 with 1 Axes>"
      ]
     },
     "metadata": {
      "needs_background": "light"
     },
     "output_type": "display_data"
    },
    {
     "data": {
      "image/png": "[encoded data removed]",
      "text/plain": [
       "<Figure size 216x144 with 1 Axes>"
      ]
     },
     "metadata": {
      "needs_background": "light"
     },
     "output_type": "display_data"
    },
    {
     "data": {
      "image/png": "[encoded data removed]",
      "text/plain": [
       "<Figure size 216x144 with 1 Axes>"
      ]
     },
     "metadata": {
      "needs_background": "light"
     },
     "output_type": "display_data"
    },
    {
     "data": {
      "image/png": "[encoded data removed]",
      "text/plain": [
       "<Figure size 216x144 with 1 Axes>"
      ]
     },
     "metadata": {
      "needs_background": "light"
     },
     "output_type": "display_data"
    }
   ],
   "source": [
    "#Realizamos diagramas de caja para identificar outliers, a través de los diagramas se puede observar que hay valores atípicos\n",
    "#en todas las columnas, de cualquier manera, se tomo la decisión de no reemplazar los valores atípicos de las variables de \n",
    "#reviews ya que están en el rango del 1-5\n",
    "fig1 = plt.figure(figsize =(3, 2))\n",
    "plt.boxplot(df[\"review_scores_location\"]) \n",
    "plt.title(\"Outliers columna review_scores_location\")\n",
    "plt.show() \n",
    "\n",
    "\n",
    "fig2 = plt.figure(figsize =(3, 2))\n",
    "plt.boxplot(df[\"review_scores_value\"]) \n",
    "plt.title(\"Outliers columna review_scores_value\")\n",
    "plt.show() \n",
    "\n",
    "fig3 = plt.figure(figsize =(3, 2))\n",
    "plt.boxplot(df[\"calculated_host_listings_count\"]) \n",
    "plt.title(\"Outliers columna calculated_host_listings_count\")\n",
    "plt.show() \n",
    "\n",
    "fig4 = plt.figure(figsize =(3, 2))\n",
    "plt.boxplot(df[\"reviews_per_month\"]) \n",
    "plt.title(\"Outliers columna reviews_per_month\")\n",
    "plt.show() "
   ]
  },
  {
   "cell_type": "code",
   "execution_count": 46,
   "metadata": {},
   "outputs": [
    {
     "name": "stdout",
     "output_type": "stream",
     "text": [
      "Limite superior permitido 1.03\n",
      "Limite inferior permitido 0.95\n"
     ]
    }
   ],
   "source": [
    "#A través de investigación se encontró que el método más efectivo para detectar valores atípicos es el rango intercuartil.\n",
    "#Asimismo, se encontró que se definen como atípicos los valores que son mayores a 1.5 IQR debajo del primer cuartil o arriba del tercer cuartil,\n",
    "#Por ende, decidimos utilizar ese rango\n",
    "#Aplicar método de rango intercuartílico para identificar outliers, tomando como límites 1.5 IQR \n",
    "y_1=df[\"host_response_rate\"]\n",
    "\n",
    "percentile25_1=y_1.quantile(0.25) #Q1\n",
    "percentile75_1=y_1.quantile(0.75) #Q3\n",
    "iqr_1= percentile75_1 - percentile25_1\n",
    "\n",
    "limite_superior_iqr_1= percentile75_1 + 1.5*iqr_1\n",
    "limite_inferior_iqr_1= percentile25_1 - 1.5*iqr_1\n",
    "print(\"Limite superior permitido\", limite_superior_iqr_1)\n",
    "print(\"Limite inferior permitido\", limite_inferior_iqr_1)"
   ]
  },
  {
   "cell_type": "code",
   "execution_count": 47,
   "metadata": {},
   "outputs": [
    {
     "data": {
      "text/plain": [
       "3473"
      ]
     },
     "execution_count": 47,
     "metadata": {},
     "output_type": "execute_result"
    }
   ],
   "source": [
    "#Identificar outliers\n",
    "outliers_iqr_1= df[(y_1>limite_superior_iqr_1)|(y_1<limite_inferior_iqr_1)]\n",
    "outliers_iqr_1\n",
    "len(outliers_iqr_1)"
   ]
  },
  {
   "cell_type": "code",
   "execution_count": 48,
   "metadata": {},
   "outputs": [
    {
     "name": "stdout",
     "output_type": "stream",
     "text": [
      "Limite superior permitido 1.165\n",
      "Limite inferior permitido 0.7250000000000001\n"
     ]
    }
   ],
   "source": [
    "#Aplicar método de rango intercuartílico para identificar outliers, tomando como límites 1.5 IQR \n",
    "y_2=df[\"host_acceptance_rate\"]\n",
    "\n",
    "percentile25_2=y_2.quantile(0.25) #Q1\n",
    "percentile75_2=y_2.quantile(0.75) #Q3\n",
    "iqr_2= percentile75_2 - percentile25_2\n",
    "\n",
    "limite_superior_iqr_2= percentile75_2 + 1.5*iqr_2\n",
    "limite_inferior_iqr_2= percentile25_2 - 1.5*iqr_2\n",
    "print(\"Limite superior permitido\", limite_superior_iqr_2)\n",
    "print(\"Limite inferior permitido\", limite_inferior_iqr_2)"
   ]
  },
  {
   "cell_type": "code",
   "execution_count": 49,
   "metadata": {},
   "outputs": [
    {
     "data": {
      "text/plain": [
       "1837"
      ]
     },
     "execution_count": 49,
     "metadata": {},
     "output_type": "execute_result"
    }
   ],
   "source": [
    "#Identificar outliers\n",
    "outliers_iqr_2= df[(y_2>limite_superior_iqr_2)|(y_2<limite_inferior_iqr_2)]\n",
    "outliers_iqr_2\n",
    "len(outliers_iqr_2)"
   ]
  },
  {
   "cell_type": "code",
   "execution_count": 50,
   "metadata": {},
   "outputs": [
    {
     "name": "stdout",
     "output_type": "stream",
     "text": [
      "Limite superior permitido 10.5\n",
      "Limite inferior permitido -1.5\n"
     ]
    }
   ],
   "source": [
    "#Aplicar método de rango intercuartílico para identificar outliers, tomando como límites 1.5 IQR \n",
    "y_3=df[\"accommodates\"]\n",
    "\n",
    "percentile25_3=y_3.quantile(0.25) #Q1\n",
    "percentile75_3=y_3.quantile(0.75) #Q3\n",
    "iqr_3= percentile75_3 - percentile25_3\n",
    "\n",
    "limite_superior_iqr_3= percentile75_3 + 1.5*iqr_3\n",
    "limite_inferior_iqr_3= percentile25_3 - 1.5*iqr_3\n",
    "print(\"Limite superior permitido\", limite_superior_iqr_3)\n",
    "print(\"Limite inferior permitido\", limite_inferior_iqr_3)"
   ]
  },
  {
   "cell_type": "code",
   "execution_count": 51,
   "metadata": {},
   "outputs": [
    {
     "data": {
      "text/plain": [
       "907"
      ]
     },
     "execution_count": 51,
     "metadata": {},
     "output_type": "execute_result"
    }
   ],
   "source": [
    "#Identificar outliers\n",
    "outliers_iqr_3= df[(y_3>limite_superior_iqr_3)|(y_3<limite_inferior_iqr_3)]\n",
    "outliers_iqr_3\n",
    "len(outliers_iqr_3)"
   ]
  },
  {
   "cell_type": "code",
   "execution_count": 52,
   "metadata": {},
   "outputs": [
    {
     "name": "stdout",
     "output_type": "stream",
     "text": [
      "Limite superior permitido 3.5\n",
      "Limite inferior permitido -0.5\n"
     ]
    }
   ],
   "source": [
    "#Aplicar método de rango intercuartílico para identificar outliers, tomando como límites 1.5 IQR \n",
    "y_4=df[\"bathrooms\"]\n",
    "\n",
    "percentile25_4=y_4.quantile(0.25) #Q1\n",
    "percentile75_4=y_4.quantile(0.75) #Q3\n",
    "iqr_4= percentile75_4 - percentile25_4\n",
    "\n",
    "limite_superior_iqr_4= percentile75_4 + 1.5*iqr_4\n",
    "limite_inferior_iqr_4= percentile25_4 - 1.5*iqr_4\n",
    "print(\"Limite superior permitido\", limite_superior_iqr_4)\n",
    "print(\"Limite inferior permitido\", limite_inferior_iqr_4)"
   ]
  },
  {
   "cell_type": "code",
   "execution_count": 53,
   "metadata": {},
   "outputs": [
    {
     "data": {
      "text/plain": [
       "651"
      ]
     },
     "execution_count": 53,
     "metadata": {},
     "output_type": "execute_result"
    }
   ],
   "source": [
    "#Identificar outliers\n",
    "outliers_iqr_4= df[(y_4>limite_superior_iqr_4)|(y_4<limite_inferior_iqr_4)]\n",
    "outliers_iqr_4\n",
    "len(outliers_iqr_4)"
   ]
  },
  {
   "cell_type": "code",
   "execution_count": 54,
   "metadata": {},
   "outputs": [
    {
     "name": "stdout",
     "output_type": "stream",
     "text": [
      "Limite superior permitido 8.5\n",
      "Limite inferior permitido -3.5\n"
     ]
    }
   ],
   "source": [
    "#Aplicar método de rango intercuartílico para identificar outliers, tomando como límites 1.5 IQR \n",
    "y_5=df[\"beds\"]\n",
    "\n",
    "percentile25_5=y_5.quantile(0.25) #Q1\n",
    "percentile75_5=y_5.quantile(0.75) #Q3\n",
    "iqr_5= percentile75_5 - percentile25_5\n",
    "\n",
    "limite_superior_iqr_5= percentile75_5 + 1.5*iqr_5\n",
    "limite_inferior_iqr_5= percentile25_5 - 1.5*iqr_5\n",
    "print(\"Limite superior permitido\", limite_superior_iqr_5)\n",
    "print(\"Limite inferior permitido\", limite_inferior_iqr_5)"
   ]
  },
  {
   "cell_type": "code",
   "execution_count": 55,
   "metadata": {},
   "outputs": [
    {
     "data": {
      "text/plain": [
       "366"
      ]
     },
     "execution_count": 55,
     "metadata": {},
     "output_type": "execute_result"
    }
   ],
   "source": [
    "#Identificar outliers\n",
    "outliers_iqr_5= df[(y_5>limite_superior_iqr_5)|(y_5<limite_inferior_iqr_5)]\n",
    "outliers_iqr_5\n",
    "len(outliers_iqr_5)"
   ]
  },
  {
   "cell_type": "code",
   "execution_count": 56,
   "metadata": {},
   "outputs": [
    {
     "name": "stdout",
     "output_type": "stream",
     "text": [
      "Limite superior permitido 6.0\n",
      "Limite inferior permitido -2.0\n"
     ]
    }
   ],
   "source": [
    "#Aplicar método de rango intercuartílico para identificar outliers, tomando como límites 1.5 IQR \n",
    "y_6=df[\"bedrooms\"]\n",
    "\n",
    "percentile25_6=y_6.quantile(0.25) #Q1\n",
    "percentile75_6=y_6.quantile(0.75) #Q3\n",
    "iqr_6= percentile75_6 - percentile25_6\n",
    "\n",
    "limite_superior_iqr_6= percentile75_6 + 1.5*iqr_6\n",
    "limite_inferior_iqr_6= percentile25_6 - 1.5*iqr_6\n",
    "print(\"Limite superior permitido\", limite_superior_iqr_6)\n",
    "print(\"Limite inferior permitido\", limite_inferior_iqr_6)"
   ]
  },
  {
   "cell_type": "code",
   "execution_count": 57,
   "metadata": {},
   "outputs": [
    {
     "data": {
      "text/plain": [
       "149"
      ]
     },
     "execution_count": 57,
     "metadata": {},
     "output_type": "execute_result"
    }
   ],
   "source": [
    "#Identificar outliers\n",
    "outliers_iqr_6= df[(y_6>limite_superior_iqr_6)|(y_6<limite_inferior_iqr_6)]\n",
    "outliers_iqr_6\n",
    "len(outliers_iqr_6)"
   ]
  },
  {
   "cell_type": "code",
   "execution_count": 58,
   "metadata": {},
   "outputs": [
    {
     "name": "stdout",
     "output_type": "stream",
     "text": [
      "Limite superior permitido 485.0\n",
      "Limite inferior permitido -147.0\n"
     ]
    }
   ],
   "source": [
    "#Aplicar método de rango intercuartílico para identificar outliers, tomando como límites 1.5 IQR \n",
    "y_7=df[\"price\"]\n",
    "\n",
    "percentile25_7=y_7.quantile(0.25) #Q1\n",
    "percentile75_7=y_7.quantile(0.75) #Q3\n",
    "iqr_7= percentile75_7 - percentile25_7\n",
    "\n",
    "limite_superior_iqr_7= percentile75_7 + 1.5*iqr_7\n",
    "limite_inferior_iqr_7= percentile25_7 - 1.5*iqr_7\n",
    "print(\"Limite superior permitido\", limite_superior_iqr_7)\n",
    "print(\"Limite inferior permitido\", limite_inferior_iqr_7)"
   ]
  },
  {
   "cell_type": "code",
   "execution_count": 59,
   "metadata": {},
   "outputs": [
    {
     "data": {
      "text/plain": [
       "1312"
      ]
     },
     "execution_count": 59,
     "metadata": {},
     "output_type": "execute_result"
    }
   ],
   "source": [
    "#Identificar outliers\n",
    "outliers_iqr_7= df[(y_7>limite_superior_iqr_7)|(y_7<limite_inferior_iqr_7)]\n",
    "outliers_iqr_7\n",
    "len(outliers_iqr_7)"
   ]
  },
  {
   "cell_type": "code",
   "execution_count": 60,
   "metadata": {},
   "outputs": [
    {
     "name": "stdout",
     "output_type": "stream",
     "text": [
      "Limite superior permitido 8.5\n",
      "Limite inferior permitido -3.5\n"
     ]
    }
   ],
   "source": [
    "#Aplicar método de rango intercuartílico para identificar outliers, tomando como límites 1.5 IQR \n",
    "y_8=df[\"minimum_nights\"]\n",
    "\n",
    "percentile25_8=y_8.quantile(0.25) #Q1\n",
    "percentile75_8=y_8.quantile(0.75) #Q3\n",
    "iqr_8= percentile75_8 - percentile25_8\n",
    "\n",
    "limite_superior_iqr_8= percentile75_8 + 1.5*iqr_8\n",
    "limite_inferior_iqr_8= percentile25_8 - 1.5*iqr_8\n",
    "print(\"Limite superior permitido\", limite_superior_iqr_8)\n",
    "print(\"Limite inferior permitido\", limite_inferior_iqr_8)"
   ]
  },
  {
   "cell_type": "code",
   "execution_count": 61,
   "metadata": {},
   "outputs": [
    {
     "data": {
      "text/plain": [
       "1258"
      ]
     },
     "execution_count": 61,
     "metadata": {},
     "output_type": "execute_result"
    }
   ],
   "source": [
    "#Identificar outliers\n",
    "outliers_iqr_8= df[(y_8>limite_superior_iqr_8)|(y_8<limite_inferior_iqr_8)]\n",
    "outliers_iqr_8\n",
    "len(outliers_iqr_8)"
   ]
  },
  {
   "cell_type": "code",
   "execution_count": 62,
   "metadata": {},
   "outputs": [
    {
     "name": "stdout",
     "output_type": "stream",
     "text": [
      "Limite superior permitido 2677.5\n",
      "Limite inferior permitido -1462.5\n"
     ]
    }
   ],
   "source": [
    "#Aplicar método de rango intercuartílico para identificar outliers, tomando como límites 1.5 IQR \n",
    "y_9=df[\"maximum_nights\"]\n",
    "\n",
    "percentile25_9=y_9.quantile(0.25) #Q1\n",
    "percentile75_9=y_9.quantile(0.75) #Q3\n",
    "iqr_9= percentile75_9 - percentile25_9\n",
    "\n",
    "limite_superior_iqr_9= percentile75_9 + 1.5*iqr_9\n",
    "limite_inferior_iqr_9= percentile25_9 - 1.5*iqr_9\n",
    "print(\"Limite superior permitido\", limite_superior_iqr_9)\n",
    "print(\"Limite inferior permitido\", limite_inferior_iqr_9)"
   ]
  },
  {
   "cell_type": "code",
   "execution_count": 63,
   "metadata": {},
   "outputs": [
    {
     "data": {
      "text/plain": [
       "1"
      ]
     },
     "execution_count": 63,
     "metadata": {},
     "output_type": "execute_result"
    }
   ],
   "source": [
    "#Identificar outliers\n",
    "outliers_iqr_9= df[(y_9>limite_superior_iqr_9)|(y_9<limite_inferior_iqr_9)]\n",
    "outliers_iqr_9\n",
    "len(outliers_iqr_9)"
   ]
  },
  {
   "cell_type": "code",
   "execution_count": 64,
   "metadata": {},
   "outputs": [
    {
     "name": "stdout",
     "output_type": "stream",
     "text": [
      "Limite superior permitido 9.6\n",
      "Limite inferior permitido -3.1999999999999997\n"
     ]
    }
   ],
   "source": [
    "#Aplicar método de rango intercuartílico para identificar outliers, tomando como límites 1.5 IQR \n",
    "y_10=df[\"minimum_nights_avg_ntm\"]\n",
    "\n",
    "percentile25_10=y_10.quantile(0.25) #Q1\n",
    "percentile75_10=y_10.quantile(0.75) #Q3\n",
    "iqr_10= percentile75_10 - percentile25_10\n",
    "\n",
    "limite_superior_iqr_10= percentile75_10 + 1.5*iqr_10\n",
    "limite_inferior_iqr_10= percentile25_10 - 1.5*iqr_10\n",
    "print(\"Limite superior permitido\", limite_superior_iqr_10)\n",
    "print(\"Limite inferior permitido\", limite_inferior_iqr_10)"
   ]
  },
  {
   "cell_type": "code",
   "execution_count": 65,
   "metadata": {},
   "outputs": [
    {
     "data": {
      "text/plain": [
       "1487"
      ]
     },
     "execution_count": 65,
     "metadata": {},
     "output_type": "execute_result"
    }
   ],
   "source": [
    "#Identificar outliers\n",
    "outliers_iqr_10= df[(y_10>limite_superior_iqr_10)|(y_10<limite_inferior_iqr_10)]\n",
    "outliers_iqr_10\n",
    "len(outliers_iqr_10)"
   ]
  },
  {
   "cell_type": "code",
   "execution_count": 66,
   "metadata": {},
   "outputs": [
    {
     "name": "stdout",
     "output_type": "stream",
     "text": [
      "Limite superior permitido 2265.0\n",
      "Limite inferior permitido -775.0\n"
     ]
    }
   ],
   "source": [
    "#Aplicar método de rango intercuartílico para identificar outliers, tomando como límites 1.5 IQR \n",
    "y_11=df[\"maximum_nights_avg_ntm\"]\n",
    "\n",
    "percentile25_11=y_11.quantile(0.25) #Q1\n",
    "percentile75_11=y_11.quantile(0.75) #Q3\n",
    "iqr_11= percentile75_11 - percentile25_11\n",
    "\n",
    "limite_superior_iqr_11= percentile75_11 + 1.5*iqr_11\n",
    "limite_inferior_iqr_11= percentile25_11 - 1.5*iqr_11\n",
    "print(\"Limite superior permitido\", limite_superior_iqr_11)\n",
    "print(\"Limite inferior permitido\", limite_inferior_iqr_11)"
   ]
  },
  {
   "cell_type": "code",
   "execution_count": 67,
   "metadata": {},
   "outputs": [
    {
     "data": {
      "text/plain": [
       "2"
      ]
     },
     "execution_count": 67,
     "metadata": {},
     "output_type": "execute_result"
    }
   ],
   "source": [
    "#Identificar outliers\n",
    "outliers_iqr_11= df[(y_11>limite_superior_iqr_11)|(y_11<limite_inferior_iqr_11)]\n",
    "outliers_iqr_11\n",
    "len(outliers_iqr_11)"
   ]
  },
  {
   "cell_type": "code",
   "execution_count": 68,
   "metadata": {},
   "outputs": [
    {
     "name": "stdout",
     "output_type": "stream",
     "text": [
      "Limite superior permitido 40.0\n",
      "Limite inferior permitido -24.0\n"
     ]
    }
   ],
   "source": [
    "#Aplicar método de rango intercuartílico para identificar outliers, tomando como límites 1.5 IQR \n",
    "y_12=df[\"number_of_reviews_ltm\"]\n",
    "\n",
    "percentile25_12=y_12.quantile(0.25) #Q1\n",
    "percentile75_12=y_12.quantile(0.75) #Q3\n",
    "iqr_12= percentile75_12 - percentile25_12\n",
    "\n",
    "limite_superior_iqr_12= percentile75_12 + 1.5*iqr_12\n",
    "limite_inferior_iqr_12= percentile25_12 - 1.5*iqr_12\n",
    "print(\"Limite superior permitido\", limite_superior_iqr_12)\n",
    "print(\"Limite inferior permitido\", limite_inferior_iqr_12)"
   ]
  },
  {
   "cell_type": "code",
   "execution_count": 69,
   "metadata": {},
   "outputs": [
    {
     "data": {
      "text/plain": [
       "877"
      ]
     },
     "execution_count": 69,
     "metadata": {},
     "output_type": "execute_result"
    }
   ],
   "source": [
    "#Identificar outliers\n",
    "outliers_iqr_12= df[(y_12>limite_superior_iqr_12)|(y_12<limite_inferior_iqr_12)]\n",
    "outliers_iqr_12\n",
    "len(outliers_iqr_12)"
   ]
  },
  {
   "cell_type": "code",
   "execution_count": 70,
   "metadata": {},
   "outputs": [
    {
     "name": "stdout",
     "output_type": "stream",
     "text": [
      "Limite superior permitido 33.5\n",
      "Limite inferior permitido -18.5\n"
     ]
    }
   ],
   "source": [
    "#Aplicar método de rango intercuartílico para identificar outliers, tomando como límites 1.5 IQR \n",
    "y_13=df[\"calculated_host_listings_count\"]\n",
    "\n",
    "percentile25_13=y_13.quantile(0.25) #Q1\n",
    "percentile75_13=y_13.quantile(0.75) #Q3\n",
    "iqr_13= percentile75_13 - percentile25_13\n",
    "\n",
    "limite_superior_iqr_13= percentile75_13 + 1.5*iqr_13\n",
    "limite_inferior_iqr_13= percentile25_13 - 1.5*iqr_13\n",
    "print(\"Limite superior permitido\", limite_superior_iqr_13)\n",
    "print(\"Limite inferior permitido\", limite_inferior_iqr_13)"
   ]
  },
  {
   "cell_type": "code",
   "execution_count": 71,
   "metadata": {},
   "outputs": [
    {
     "data": {
      "text/plain": [
       "1947"
      ]
     },
     "execution_count": 71,
     "metadata": {},
     "output_type": "execute_result"
    }
   ],
   "source": [
    "#Identificar outliers\n",
    "outliers_iqr_13= df[(y_13>limite_superior_iqr_13)|(y_13<limite_inferior_iqr_13)]\n",
    "outliers_iqr_13\n",
    "len(outliers_iqr_13)"
   ]
  },
  {
   "cell_type": "code",
   "execution_count": 72,
   "metadata": {},
   "outputs": [
    {
     "data": {
      "image/png": "[encoded data removed]",
      "text/plain": [
       "<Figure size 216x144 with 1 Axes>"
      ]
     },
     "metadata": {
      "needs_background": "light"
     },
     "output_type": "display_data"
    },
    {
     "data": {
      "image/png": "[encoded data removed]",
      "text/plain": [
       "<Figure size 216x144 with 1 Axes>"
      ]
     },
     "metadata": {
      "needs_background": "light"
     },
     "output_type": "display_data"
    },
    {
     "data": {
      "image/png": "[encoded data removed]",
      "text/plain": [
       "<Figure size 216x144 with 1 Axes>"
      ]
     },
     "metadata": {
      "needs_background": "light"
     },
     "output_type": "display_data"
    }
   ],
   "source": [
    "#Se decidió sustituir ciertas variables con la moda, de las que restan se graficarán histogramas para saber\n",
    "#si se sigue la distribución normal para sustituir con promedios\n",
    "#Para la columna de accommodates se encuentra distribución relativamente normal\n",
    "fig1 = plt.figure(figsize =(3, 2))\n",
    "plt.hist(df[\"host_response_rate\"])\n",
    "plt.title(\"Distribución columna host_response_rate\")\n",
    "plt.show() \n",
    "\n",
    "fig2 = plt.figure(figsize =(3, 2))\n",
    "plt.hist(df[\"host_acceptance_rate\"])\n",
    "plt.title(\"Distribución columna host_acceptance_rate\")\n",
    "plt.show() \n",
    "\n",
    "fig3 = plt.figure(figsize =(3, 2))\n",
    "plt.hist(df[\"accommodates\"])\n",
    "plt.title(\"Distribución columna accommodates\")\n",
    "plt.show() "
   ]
  },
  {
   "cell_type": "code",
   "execution_count": 73,
   "metadata": {},
   "outputs": [
    {
     "data": {
      "image/png": "[encoded data removed]",
      "text/plain": [
       "<Figure size 216x144 with 1 Axes>"
      ]
     },
     "metadata": {
      "needs_background": "light"
     },
     "output_type": "display_data"
    },
    {
     "data": {
      "image/png": "[encoded data removed]",
      "text/plain": [
       "<Figure size 216x144 with 1 Axes>"
      ]
     },
     "metadata": {
      "needs_background": "light"
     },
     "output_type": "display_data"
    },
    {
     "data": {
      "image/png": "[encoded data removed]",
      "text/plain": [
       "<Figure size 216x144 with 1 Axes>"
      ]
     },
     "metadata": {
      "needs_background": "light"
     },
     "output_type": "display_data"
    }
   ],
   "source": [
    "fig1 = plt.figure(figsize =(3, 2))\n",
    "plt.hist(df[\"bathrooms\"])\n",
    "plt.title(\"Distribución columna bathrooms\")\n",
    "plt.show() \n",
    "\n",
    "fig2 = plt.figure(figsize =(3, 2))\n",
    "plt.hist(df[\"beds\"])\n",
    "plt.title(\"Distribución columna beds\")\n",
    "plt.show() \n",
    "\n",
    "fig3 = plt.figure(figsize =(3, 2))\n",
    "plt.hist(df[\"bedrooms\"])\n",
    "plt.title(\"Distribución columna bedrooms\")\n",
    "plt.show() "
   ]
  },
  {
   "cell_type": "code",
   "execution_count": 74,
   "metadata": {},
   "outputs": [
    {
     "data": {
      "image/png": "[encoded data removed]",
      "text/plain": [
       "<Figure size 216x144 with 1 Axes>"
      ]
     },
     "metadata": {
      "needs_background": "light"
     },
     "output_type": "display_data"
    },
    {
     "data": {
      "image/png": "[encoded data removed]",
      "text/plain": [
       "<Figure size 216x144 with 1 Axes>"
      ]
     },
     "metadata": {
      "needs_background": "light"
     },
     "output_type": "display_data"
    },
    {
     "data": {
      "image/png": "[encoded data removed]",
      "text/plain": [
       "<Figure size 216x144 with 1 Axes>"
      ]
     },
     "metadata": {
      "needs_background": "light"
     },
     "output_type": "display_data"
    }
   ],
   "source": [
    "fig1 = plt.figure(figsize =(3, 2))\n",
    "plt.hist(df[\"price\"])\n",
    "plt.title(\"Distribución columna price\")\n",
    "plt.show() \n",
    "\n",
    "fig2 = plt.figure(figsize =(3, 2))\n",
    "plt.hist(df[\"number_of_reviews_ltm\"])\n",
    "plt.title(\"Distribución columna number_of_reviews_ltm\")\n",
    "plt.show() \n",
    "\n",
    "fig3 = plt.figure(figsize =(3, 2))\n",
    "plt.hist(df[\"calculated_host_listings_count\"])\n",
    "plt.title(\"Distribución columna calculated_host_listings_count\")\n",
    "plt.show() "
   ]
  },
  {
   "cell_type": "code",
   "execution_count": 75,
   "metadata": {},
   "outputs": [
    {
     "data": {
      "text/plain": [
       "1.0"
      ]
     },
     "execution_count": 75,
     "metadata": {},
     "output_type": "execute_result"
    }
   ],
   "source": [
    "#Se obtiene la mediana para poder sustituir los valores atípicos\n",
    "st.median(df.bathrooms)"
   ]
  },
  {
   "cell_type": "code",
   "execution_count": 76,
   "metadata": {},
   "outputs": [],
   "source": [
    "#Se sustituyen los valores atípicos\n",
    "df[\"bathrooms\"] = np.where(((df[\"bathrooms\"]>limite_superior_iqr_4)|(df[\"bathrooms\"]<limite_inferior_iqr_4)),1,df['bathrooms'])"
   ]
  },
  {
   "cell_type": "code",
   "execution_count": 77,
   "metadata": {},
   "outputs": [
    {
     "data": {
      "text/html": [
       "<div>\n",
       "<style scoped>\n",
       "    .dataframe tbody tr th:only-of-type {\n",
       "        vertical-align: middle;\n",
       "    }\n",
       "\n",
       "    .dataframe tbody tr th {\n",
       "        vertical-align: top;\n",
       "    }\n",
       "\n",
       "    .dataframe thead th {\n",
       "        text-align: right;\n",
       "    }\n",
       "</style>\n",
       "<table border=\"1\" class=\"dataframe\">\n",
       "  <thead>\n",
       "    <tr style=\"text-align: right;\">\n",
       "      <th></th>\n",
       "      <th>id</th>\n",
       "      <th>host_id</th>\n",
       "      <th>host_location</th>\n",
       "      <th>host_response_time</th>\n",
       "      <th>host_response_rate</th>\n",
       "      <th>host_acceptance_rate</th>\n",
       "      <th>host_is_superhost</th>\n",
       "      <th>host_neighbourhood</th>\n",
       "      <th>host_verifications</th>\n",
       "      <th>host_has_profile_pic</th>\n",
       "      <th>...</th>\n",
       "      <th>review_scores_rating</th>\n",
       "      <th>review_scores_accuracy</th>\n",
       "      <th>review_scores_cleanliness</th>\n",
       "      <th>review_scores_checkin</th>\n",
       "      <th>review_scores_communication</th>\n",
       "      <th>review_scores_location</th>\n",
       "      <th>review_scores_value</th>\n",
       "      <th>instant_bookable</th>\n",
       "      <th>calculated_host_listings_count</th>\n",
       "      <th>reviews_per_month</th>\n",
       "    </tr>\n",
       "  </thead>\n",
       "  <tbody>\n",
       "  </tbody>\n",
       "</table>\n",
       "<p>0 rows × 42 columns</p>\n",
       "</div>"
      ],
      "text/plain": [
       "Empty DataFrame\n",
       "Columns: [id, host_id, host_location, host_response_time, host_response_rate, host_acceptance_rate, host_is_superhost, host_neighbourhood, host_verifications, host_has_profile_pic, host_identity_verified, neighbourhood_cleansed, latitude, longitude, property_type, room_type, accommodates, bathrooms, bedrooms, beds, amenities, price, minimum_nights, maximum_nights, minimum_nights_avg_ntm, maximum_nights_avg_ntm, has_availability, availability_30, availability_60, availability_90, availability_365, number_of_reviews_ltm, review_scores_rating, review_scores_accuracy, review_scores_cleanliness, review_scores_checkin, review_scores_communication, review_scores_location, review_scores_value, instant_bookable, calculated_host_listings_count, reviews_per_month]\n",
       "Index: []\n",
       "\n",
       "[0 rows x 42 columns]"
      ]
     },
     "execution_count": 77,
     "metadata": {},
     "output_type": "execute_result"
    }
   ],
   "source": [
    "#Comprobar que se sustituyeron los outliers\n",
    "outliers1= df[(df[\"bathrooms\"]>limite_superior_iqr_4)|(df[\"bathrooms\"]<limite_inferior_iqr_4)]\n",
    "outliers1"
   ]
  },
  {
   "cell_type": "code",
   "execution_count": 78,
   "metadata": {},
   "outputs": [
    {
     "data": {
      "text/plain": [
       "2.0"
      ]
     },
     "execution_count": 78,
     "metadata": {},
     "output_type": "execute_result"
    }
   ],
   "source": [
    "#Se obtiene la mediana para poder sustituir los valores atípicos\n",
    "st.median(df.beds)"
   ]
  },
  {
   "cell_type": "code",
   "execution_count": 79,
   "metadata": {},
   "outputs": [],
   "source": [
    "#Se sustituyen los valores atípicos\n",
    "df[\"beds\"] = np.where(((df[\"beds\"]>limite_superior_iqr_5)|(df[\"beds\"]<limite_inferior_iqr_5)),2,df['beds'])"
   ]
  },
  {
   "cell_type": "code",
   "execution_count": 80,
   "metadata": {},
   "outputs": [
    {
     "data": {
      "text/html": [
       "<div>\n",
       "<style scoped>\n",
       "    .dataframe tbody tr th:only-of-type {\n",
       "        vertical-align: middle;\n",
       "    }\n",
       "\n",
       "    .dataframe tbody tr th {\n",
       "        vertical-align: top;\n",
       "    }\n",
       "\n",
       "    .dataframe thead th {\n",
       "        text-align: right;\n",
       "    }\n",
       "</style>\n",
       "<table border=\"1\" class=\"dataframe\">\n",
       "  <thead>\n",
       "    <tr style=\"text-align: right;\">\n",
       "      <th></th>\n",
       "      <th>id</th>\n",
       "      <th>host_id</th>\n",
       "      <th>host_location</th>\n",
       "      <th>host_response_time</th>\n",
       "      <th>host_response_rate</th>\n",
       "      <th>host_acceptance_rate</th>\n",
       "      <th>host_is_superhost</th>\n",
       "      <th>host_neighbourhood</th>\n",
       "      <th>host_verifications</th>\n",
       "      <th>host_has_profile_pic</th>\n",
       "      <th>...</th>\n",
       "      <th>review_scores_rating</th>\n",
       "      <th>review_scores_accuracy</th>\n",
       "      <th>review_scores_cleanliness</th>\n",
       "      <th>review_scores_checkin</th>\n",
       "      <th>review_scores_communication</th>\n",
       "      <th>review_scores_location</th>\n",
       "      <th>review_scores_value</th>\n",
       "      <th>instant_bookable</th>\n",
       "      <th>calculated_host_listings_count</th>\n",
       "      <th>reviews_per_month</th>\n",
       "    </tr>\n",
       "  </thead>\n",
       "  <tbody>\n",
       "  </tbody>\n",
       "</table>\n",
       "<p>0 rows × 42 columns</p>\n",
       "</div>"
      ],
      "text/plain": [
       "Empty DataFrame\n",
       "Columns: [id, host_id, host_location, host_response_time, host_response_rate, host_acceptance_rate, host_is_superhost, host_neighbourhood, host_verifications, host_has_profile_pic, host_identity_verified, neighbourhood_cleansed, latitude, longitude, property_type, room_type, accommodates, bathrooms, bedrooms, beds, amenities, price, minimum_nights, maximum_nights, minimum_nights_avg_ntm, maximum_nights_avg_ntm, has_availability, availability_30, availability_60, availability_90, availability_365, number_of_reviews_ltm, review_scores_rating, review_scores_accuracy, review_scores_cleanliness, review_scores_checkin, review_scores_communication, review_scores_location, review_scores_value, instant_bookable, calculated_host_listings_count, reviews_per_month]\n",
       "Index: []\n",
       "\n",
       "[0 rows x 42 columns]"
      ]
     },
     "execution_count": 80,
     "metadata": {},
     "output_type": "execute_result"
    }
   ],
   "source": [
    "#Comprobar que se sustituyeron los outliers\n",
    "outliers2= df[(df[\"beds\"]>limite_superior_iqr_5)|(df[\"beds\"]<limite_inferior_iqr_5)]\n",
    "outliers2"
   ]
  },
  {
   "cell_type": "code",
   "execution_count": 81,
   "metadata": {},
   "outputs": [
    {
     "data": {
      "text/plain": [
       "2.0"
      ]
     },
     "execution_count": 81,
     "metadata": {},
     "output_type": "execute_result"
    }
   ],
   "source": [
    "#Se obtiene la mediana para poder sustituir los valores atípicos\n",
    "st.median(df.bedrooms)"
   ]
  },
  {
   "cell_type": "code",
   "execution_count": 82,
   "metadata": {},
   "outputs": [],
   "source": [
    "#Se sustituyen los valores atípicos\n",
    "df[\"bedrooms\"] = np.where(((df[\"bedrooms\"]>limite_superior_iqr_6)|(df[\"bedrooms\"]<limite_inferior_iqr_6)),2,df['bedrooms'])"
   ]
  },
  {
   "cell_type": "code",
   "execution_count": 83,
   "metadata": {},
   "outputs": [
    {
     "data": {
      "text/html": [
       "<div>\n",
       "<style scoped>\n",
       "    .dataframe tbody tr th:only-of-type {\n",
       "        vertical-align: middle;\n",
       "    }\n",
       "\n",
       "    .dataframe tbody tr th {\n",
       "        vertical-align: top;\n",
       "    }\n",
       "\n",
       "    .dataframe thead th {\n",
       "        text-align: right;\n",
       "    }\n",
       "</style>\n",
       "<table border=\"1\" class=\"dataframe\">\n",
       "  <thead>\n",
       "    <tr style=\"text-align: right;\">\n",
       "      <th></th>\n",
       "      <th>id</th>\n",
       "      <th>host_id</th>\n",
       "      <th>host_location</th>\n",
       "      <th>host_response_time</th>\n",
       "      <th>host_response_rate</th>\n",
       "      <th>host_acceptance_rate</th>\n",
       "      <th>host_is_superhost</th>\n",
       "      <th>host_neighbourhood</th>\n",
       "      <th>host_verifications</th>\n",
       "      <th>host_has_profile_pic</th>\n",
       "      <th>...</th>\n",
       "      <th>review_scores_rating</th>\n",
       "      <th>review_scores_accuracy</th>\n",
       "      <th>review_scores_cleanliness</th>\n",
       "      <th>review_scores_checkin</th>\n",
       "      <th>review_scores_communication</th>\n",
       "      <th>review_scores_location</th>\n",
       "      <th>review_scores_value</th>\n",
       "      <th>instant_bookable</th>\n",
       "      <th>calculated_host_listings_count</th>\n",
       "      <th>reviews_per_month</th>\n",
       "    </tr>\n",
       "  </thead>\n",
       "  <tbody>\n",
       "  </tbody>\n",
       "</table>\n",
       "<p>0 rows × 42 columns</p>\n",
       "</div>"
      ],
      "text/plain": [
       "Empty DataFrame\n",
       "Columns: [id, host_id, host_location, host_response_time, host_response_rate, host_acceptance_rate, host_is_superhost, host_neighbourhood, host_verifications, host_has_profile_pic, host_identity_verified, neighbourhood_cleansed, latitude, longitude, property_type, room_type, accommodates, bathrooms, bedrooms, beds, amenities, price, minimum_nights, maximum_nights, minimum_nights_avg_ntm, maximum_nights_avg_ntm, has_availability, availability_30, availability_60, availability_90, availability_365, number_of_reviews_ltm, review_scores_rating, review_scores_accuracy, review_scores_cleanliness, review_scores_checkin, review_scores_communication, review_scores_location, review_scores_value, instant_bookable, calculated_host_listings_count, reviews_per_month]\n",
       "Index: []\n",
       "\n",
       "[0 rows x 42 columns]"
      ]
     },
     "execution_count": 83,
     "metadata": {},
     "output_type": "execute_result"
    }
   ],
   "source": [
    "#Comprobar que se sustituyeron los outliers\n",
    "outliers3= df[(df[\"bedrooms\"]>limite_superior_iqr_6)|(df[\"bedrooms\"]<limite_inferior_iqr_6)]\n",
    "outliers3"
   ]
  },
  {
   "cell_type": "code",
   "execution_count": 84,
   "metadata": {},
   "outputs": [
    {
     "data": {
      "text/plain": [
       "150.0"
      ]
     },
     "execution_count": 84,
     "metadata": {},
     "output_type": "execute_result"
    }
   ],
   "source": [
    "#Se obtiene la mediana para poder sustituir los valores atípicos\n",
    "st.median(df.price)"
   ]
  },
  {
   "cell_type": "code",
   "execution_count": 85,
   "metadata": {},
   "outputs": [],
   "source": [
    "#Se sustituyen los valores atípicos\n",
    "df[\"price\"] = np.where(((df[\"price\"]>limite_superior_iqr_7)|(df[\"price\"]<limite_inferior_iqr_7)),150,df['price'])"
   ]
  },
  {
   "cell_type": "code",
   "execution_count": 86,
   "metadata": {},
   "outputs": [
    {
     "data": {
      "text/html": [
       "<div>\n",
       "<style scoped>\n",
       "    .dataframe tbody tr th:only-of-type {\n",
       "        vertical-align: middle;\n",
       "    }\n",
       "\n",
       "    .dataframe tbody tr th {\n",
       "        vertical-align: top;\n",
       "    }\n",
       "\n",
       "    .dataframe thead th {\n",
       "        text-align: right;\n",
       "    }\n",
       "</style>\n",
       "<table border=\"1\" class=\"dataframe\">\n",
       "  <thead>\n",
       "    <tr style=\"text-align: right;\">\n",
       "      <th></th>\n",
       "      <th>id</th>\n",
       "      <th>host_id</th>\n",
       "      <th>host_location</th>\n",
       "      <th>host_response_time</th>\n",
       "      <th>host_response_rate</th>\n",
       "      <th>host_acceptance_rate</th>\n",
       "      <th>host_is_superhost</th>\n",
       "      <th>host_neighbourhood</th>\n",
       "      <th>host_verifications</th>\n",
       "      <th>host_has_profile_pic</th>\n",
       "      <th>...</th>\n",
       "      <th>review_scores_rating</th>\n",
       "      <th>review_scores_accuracy</th>\n",
       "      <th>review_scores_cleanliness</th>\n",
       "      <th>review_scores_checkin</th>\n",
       "      <th>review_scores_communication</th>\n",
       "      <th>review_scores_location</th>\n",
       "      <th>review_scores_value</th>\n",
       "      <th>instant_bookable</th>\n",
       "      <th>calculated_host_listings_count</th>\n",
       "      <th>reviews_per_month</th>\n",
       "    </tr>\n",
       "  </thead>\n",
       "  <tbody>\n",
       "  </tbody>\n",
       "</table>\n",
       "<p>0 rows × 42 columns</p>\n",
       "</div>"
      ],
      "text/plain": [
       "Empty DataFrame\n",
       "Columns: [id, host_id, host_location, host_response_time, host_response_rate, host_acceptance_rate, host_is_superhost, host_neighbourhood, host_verifications, host_has_profile_pic, host_identity_verified, neighbourhood_cleansed, latitude, longitude, property_type, room_type, accommodates, bathrooms, bedrooms, beds, amenities, price, minimum_nights, maximum_nights, minimum_nights_avg_ntm, maximum_nights_avg_ntm, has_availability, availability_30, availability_60, availability_90, availability_365, number_of_reviews_ltm, review_scores_rating, review_scores_accuracy, review_scores_cleanliness, review_scores_checkin, review_scores_communication, review_scores_location, review_scores_value, instant_bookable, calculated_host_listings_count, reviews_per_month]\n",
       "Index: []\n",
       "\n",
       "[0 rows x 42 columns]"
      ]
     },
     "execution_count": 86,
     "metadata": {},
     "output_type": "execute_result"
    }
   ],
   "source": [
    "#Comprobar que se sustituyeron los outliers\n",
    "outliers4= df[(df[\"price\"]>limite_superior_iqr_7)|(df[\"price\"]<limite_inferior_iqr_7)]\n",
    "outliers4"
   ]
  },
  {
   "cell_type": "code",
   "execution_count": 87,
   "metadata": {},
   "outputs": [
    {
     "data": {
      "text/plain": [
       "1"
      ]
     },
     "execution_count": 87,
     "metadata": {},
     "output_type": "execute_result"
    }
   ],
   "source": [
    "#Se obtiene la moda para poder sustituir los valores atípicos\n",
    "st.mode(df.minimum_nights)"
   ]
  },
  {
   "cell_type": "code",
   "execution_count": 88,
   "metadata": {},
   "outputs": [],
   "source": [
    "#Se sustituyen los valores atípicos\n",
    "df[\"minimum_nights\"] = np.where(((df[\"minimum_nights\"]>limite_superior_iqr_8)|(df[\"minimum_nights\"]<limite_inferior_iqr_8)),1,df['minimum_nights'])"
   ]
  },
  {
   "cell_type": "code",
   "execution_count": 89,
   "metadata": {},
   "outputs": [
    {
     "data": {
      "text/html": [
       "<div>\n",
       "<style scoped>\n",
       "    .dataframe tbody tr th:only-of-type {\n",
       "        vertical-align: middle;\n",
       "    }\n",
       "\n",
       "    .dataframe tbody tr th {\n",
       "        vertical-align: top;\n",
       "    }\n",
       "\n",
       "    .dataframe thead th {\n",
       "        text-align: right;\n",
       "    }\n",
       "</style>\n",
       "<table border=\"1\" class=\"dataframe\">\n",
       "  <thead>\n",
       "    <tr style=\"text-align: right;\">\n",
       "      <th></th>\n",
       "      <th>id</th>\n",
       "      <th>host_id</th>\n",
       "      <th>host_location</th>\n",
       "      <th>host_response_time</th>\n",
       "      <th>host_response_rate</th>\n",
       "      <th>host_acceptance_rate</th>\n",
       "      <th>host_is_superhost</th>\n",
       "      <th>host_neighbourhood</th>\n",
       "      <th>host_verifications</th>\n",
       "      <th>host_has_profile_pic</th>\n",
       "      <th>...</th>\n",
       "      <th>review_scores_rating</th>\n",
       "      <th>review_scores_accuracy</th>\n",
       "      <th>review_scores_cleanliness</th>\n",
       "      <th>review_scores_checkin</th>\n",
       "      <th>review_scores_communication</th>\n",
       "      <th>review_scores_location</th>\n",
       "      <th>review_scores_value</th>\n",
       "      <th>instant_bookable</th>\n",
       "      <th>calculated_host_listings_count</th>\n",
       "      <th>reviews_per_month</th>\n",
       "    </tr>\n",
       "  </thead>\n",
       "  <tbody>\n",
       "  </tbody>\n",
       "</table>\n",
       "<p>0 rows × 42 columns</p>\n",
       "</div>"
      ],
      "text/plain": [
       "Empty DataFrame\n",
       "Columns: [id, host_id, host_location, host_response_time, host_response_rate, host_acceptance_rate, host_is_superhost, host_neighbourhood, host_verifications, host_has_profile_pic, host_identity_verified, neighbourhood_cleansed, latitude, longitude, property_type, room_type, accommodates, bathrooms, bedrooms, beds, amenities, price, minimum_nights, maximum_nights, minimum_nights_avg_ntm, maximum_nights_avg_ntm, has_availability, availability_30, availability_60, availability_90, availability_365, number_of_reviews_ltm, review_scores_rating, review_scores_accuracy, review_scores_cleanliness, review_scores_checkin, review_scores_communication, review_scores_location, review_scores_value, instant_bookable, calculated_host_listings_count, reviews_per_month]\n",
       "Index: []\n",
       "\n",
       "[0 rows x 42 columns]"
      ]
     },
     "execution_count": 89,
     "metadata": {},
     "output_type": "execute_result"
    }
   ],
   "source": [
    "#Comprobar que se sustituyeron los outliers\n",
    "outliers5= df[(df[\"minimum_nights\"]>limite_superior_iqr_8)|(df[\"minimum_nights\"]<limite_inferior_iqr_8)]\n",
    "outliers5"
   ]
  },
  {
   "cell_type": "code",
   "execution_count": 90,
   "metadata": {},
   "outputs": [
    {
     "data": {
      "text/plain": [
       "1125"
      ]
     },
     "execution_count": 90,
     "metadata": {},
     "output_type": "execute_result"
    }
   ],
   "source": [
    "#Se obtiene la moda para poder sustituir los valores atípicos\n",
    "st.mode(df.maximum_nights)"
   ]
  },
  {
   "cell_type": "code",
   "execution_count": 91,
   "metadata": {},
   "outputs": [],
   "source": [
    "#Se sustituyen los valores atípicos\n",
    "df[\"maximum_nights\"] = np.where(((df[\"maximum_nights\"]>limite_superior_iqr_9)|(df[\"maximum_nights\"]<limite_inferior_iqr_9)),1125,df['maximum_nights'])"
   ]
  },
  {
   "cell_type": "code",
   "execution_count": 92,
   "metadata": {},
   "outputs": [
    {
     "data": {
      "text/html": [
       "<div>\n",
       "<style scoped>\n",
       "    .dataframe tbody tr th:only-of-type {\n",
       "        vertical-align: middle;\n",
       "    }\n",
       "\n",
       "    .dataframe tbody tr th {\n",
       "        vertical-align: top;\n",
       "    }\n",
       "\n",
       "    .dataframe thead th {\n",
       "        text-align: right;\n",
       "    }\n",
       "</style>\n",
       "<table border=\"1\" class=\"dataframe\">\n",
       "  <thead>\n",
       "    <tr style=\"text-align: right;\">\n",
       "      <th></th>\n",
       "      <th>id</th>\n",
       "      <th>host_id</th>\n",
       "      <th>host_location</th>\n",
       "      <th>host_response_time</th>\n",
       "      <th>host_response_rate</th>\n",
       "      <th>host_acceptance_rate</th>\n",
       "      <th>host_is_superhost</th>\n",
       "      <th>host_neighbourhood</th>\n",
       "      <th>host_verifications</th>\n",
       "      <th>host_has_profile_pic</th>\n",
       "      <th>...</th>\n",
       "      <th>review_scores_rating</th>\n",
       "      <th>review_scores_accuracy</th>\n",
       "      <th>review_scores_cleanliness</th>\n",
       "      <th>review_scores_checkin</th>\n",
       "      <th>review_scores_communication</th>\n",
       "      <th>review_scores_location</th>\n",
       "      <th>review_scores_value</th>\n",
       "      <th>instant_bookable</th>\n",
       "      <th>calculated_host_listings_count</th>\n",
       "      <th>reviews_per_month</th>\n",
       "    </tr>\n",
       "  </thead>\n",
       "  <tbody>\n",
       "  </tbody>\n",
       "</table>\n",
       "<p>0 rows × 42 columns</p>\n",
       "</div>"
      ],
      "text/plain": [
       "Empty DataFrame\n",
       "Columns: [id, host_id, host_location, host_response_time, host_response_rate, host_acceptance_rate, host_is_superhost, host_neighbourhood, host_verifications, host_has_profile_pic, host_identity_verified, neighbourhood_cleansed, latitude, longitude, property_type, room_type, accommodates, bathrooms, bedrooms, beds, amenities, price, minimum_nights, maximum_nights, minimum_nights_avg_ntm, maximum_nights_avg_ntm, has_availability, availability_30, availability_60, availability_90, availability_365, number_of_reviews_ltm, review_scores_rating, review_scores_accuracy, review_scores_cleanliness, review_scores_checkin, review_scores_communication, review_scores_location, review_scores_value, instant_bookable, calculated_host_listings_count, reviews_per_month]\n",
       "Index: []\n",
       "\n",
       "[0 rows x 42 columns]"
      ]
     },
     "execution_count": 92,
     "metadata": {},
     "output_type": "execute_result"
    }
   ],
   "source": [
    "#Comprobar que se sustituyeron los outliers\n",
    "outliers6= df[(df[\"maximum_nights\"]>limite_superior_iqr_9)|(df[\"maximum_nights\"]<limite_inferior_iqr_9)]\n",
    "outliers6"
   ]
  },
  {
   "cell_type": "code",
   "execution_count": 93,
   "metadata": {},
   "outputs": [
    {
     "data": {
      "text/plain": [
       "1.0"
      ]
     },
     "execution_count": 93,
     "metadata": {},
     "output_type": "execute_result"
    }
   ],
   "source": [
    "#Se obtiene la moda para poder sustituir los valores atípicos\n",
    "st.mode(df.minimum_nights_avg_ntm)"
   ]
  },
  {
   "cell_type": "code",
   "execution_count": 94,
   "metadata": {},
   "outputs": [],
   "source": [
    "#Se sustituyen los valores atípicos\n",
    "df[\"minimum_nights_avg_ntm\"] = np.where(((df[\"minimum_nights_avg_ntm\"]>limite_superior_iqr_10)|(df[\"minimum_nights_avg_ntm\"]<limite_inferior_iqr_10)),1,df['minimum_nights_avg_ntm'])"
   ]
  },
  {
   "cell_type": "code",
   "execution_count": 95,
   "metadata": {},
   "outputs": [
    {
     "data": {
      "text/html": [
       "<div>\n",
       "<style scoped>\n",
       "    .dataframe tbody tr th:only-of-type {\n",
       "        vertical-align: middle;\n",
       "    }\n",
       "\n",
       "    .dataframe tbody tr th {\n",
       "        vertical-align: top;\n",
       "    }\n",
       "\n",
       "    .dataframe thead th {\n",
       "        text-align: right;\n",
       "    }\n",
       "</style>\n",
       "<table border=\"1\" class=\"dataframe\">\n",
       "  <thead>\n",
       "    <tr style=\"text-align: right;\">\n",
       "      <th></th>\n",
       "      <th>id</th>\n",
       "      <th>host_id</th>\n",
       "      <th>host_location</th>\n",
       "      <th>host_response_time</th>\n",
       "      <th>host_response_rate</th>\n",
       "      <th>host_acceptance_rate</th>\n",
       "      <th>host_is_superhost</th>\n",
       "      <th>host_neighbourhood</th>\n",
       "      <th>host_verifications</th>\n",
       "      <th>host_has_profile_pic</th>\n",
       "      <th>...</th>\n",
       "      <th>review_scores_rating</th>\n",
       "      <th>review_scores_accuracy</th>\n",
       "      <th>review_scores_cleanliness</th>\n",
       "      <th>review_scores_checkin</th>\n",
       "      <th>review_scores_communication</th>\n",
       "      <th>review_scores_location</th>\n",
       "      <th>review_scores_value</th>\n",
       "      <th>instant_bookable</th>\n",
       "      <th>calculated_host_listings_count</th>\n",
       "      <th>reviews_per_month</th>\n",
       "    </tr>\n",
       "  </thead>\n",
       "  <tbody>\n",
       "  </tbody>\n",
       "</table>\n",
       "<p>0 rows × 42 columns</p>\n",
       "</div>"
      ],
      "text/plain": [
       "Empty DataFrame\n",
       "Columns: [id, host_id, host_location, host_response_time, host_response_rate, host_acceptance_rate, host_is_superhost, host_neighbourhood, host_verifications, host_has_profile_pic, host_identity_verified, neighbourhood_cleansed, latitude, longitude, property_type, room_type, accommodates, bathrooms, bedrooms, beds, amenities, price, minimum_nights, maximum_nights, minimum_nights_avg_ntm, maximum_nights_avg_ntm, has_availability, availability_30, availability_60, availability_90, availability_365, number_of_reviews_ltm, review_scores_rating, review_scores_accuracy, review_scores_cleanliness, review_scores_checkin, review_scores_communication, review_scores_location, review_scores_value, instant_bookable, calculated_host_listings_count, reviews_per_month]\n",
       "Index: []\n",
       "\n",
       "[0 rows x 42 columns]"
      ]
     },
     "execution_count": 95,
     "metadata": {},
     "output_type": "execute_result"
    }
   ],
   "source": [
    "#Comprobar que se sustituyeron los outliers\n",
    "outliers7= df[(df[\"minimum_nights_avg_ntm\"]>limite_superior_iqr_10)|(df[\"minimum_nights_avg_ntm\"]<limite_inferior_iqr_10)]\n",
    "outliers7"
   ]
  },
  {
   "cell_type": "code",
   "execution_count": 96,
   "metadata": {},
   "outputs": [
    {
     "data": {
      "text/plain": [
       "1125.0"
      ]
     },
     "execution_count": 96,
     "metadata": {},
     "output_type": "execute_result"
    }
   ],
   "source": [
    "#Se obtiene la moda para poder sustituir los valores atípicos\n",
    "st.mode(df.maximum_nights_avg_ntm)"
   ]
  },
  {
   "cell_type": "code",
   "execution_count": 97,
   "metadata": {},
   "outputs": [],
   "source": [
    "#Se sustituyen los valores atípicos\n",
    "df[\"maximum_nights_avg_ntm\"] = np.where(((df[\"maximum_nights_avg_ntm\"]>limite_superior_iqr_11)|(df[\"maximum_nights_avg_ntm\"]<limite_inferior_iqr_11)),1125,df['maximum_nights_avg_ntm'])"
   ]
  },
  {
   "cell_type": "code",
   "execution_count": 98,
   "metadata": {},
   "outputs": [
    {
     "data": {
      "text/html": [
       "<div>\n",
       "<style scoped>\n",
       "    .dataframe tbody tr th:only-of-type {\n",
       "        vertical-align: middle;\n",
       "    }\n",
       "\n",
       "    .dataframe tbody tr th {\n",
       "        vertical-align: top;\n",
       "    }\n",
       "\n",
       "    .dataframe thead th {\n",
       "        text-align: right;\n",
       "    }\n",
       "</style>\n",
       "<table border=\"1\" class=\"dataframe\">\n",
       "  <thead>\n",
       "    <tr style=\"text-align: right;\">\n",
       "      <th></th>\n",
       "      <th>id</th>\n",
       "      <th>host_id</th>\n",
       "      <th>host_location</th>\n",
       "      <th>host_response_time</th>\n",
       "      <th>host_response_rate</th>\n",
       "      <th>host_acceptance_rate</th>\n",
       "      <th>host_is_superhost</th>\n",
       "      <th>host_neighbourhood</th>\n",
       "      <th>host_verifications</th>\n",
       "      <th>host_has_profile_pic</th>\n",
       "      <th>...</th>\n",
       "      <th>review_scores_rating</th>\n",
       "      <th>review_scores_accuracy</th>\n",
       "      <th>review_scores_cleanliness</th>\n",
       "      <th>review_scores_checkin</th>\n",
       "      <th>review_scores_communication</th>\n",
       "      <th>review_scores_location</th>\n",
       "      <th>review_scores_value</th>\n",
       "      <th>instant_bookable</th>\n",
       "      <th>calculated_host_listings_count</th>\n",
       "      <th>reviews_per_month</th>\n",
       "    </tr>\n",
       "  </thead>\n",
       "  <tbody>\n",
       "  </tbody>\n",
       "</table>\n",
       "<p>0 rows × 42 columns</p>\n",
       "</div>"
      ],
      "text/plain": [
       "Empty DataFrame\n",
       "Columns: [id, host_id, host_location, host_response_time, host_response_rate, host_acceptance_rate, host_is_superhost, host_neighbourhood, host_verifications, host_has_profile_pic, host_identity_verified, neighbourhood_cleansed, latitude, longitude, property_type, room_type, accommodates, bathrooms, bedrooms, beds, amenities, price, minimum_nights, maximum_nights, minimum_nights_avg_ntm, maximum_nights_avg_ntm, has_availability, availability_30, availability_60, availability_90, availability_365, number_of_reviews_ltm, review_scores_rating, review_scores_accuracy, review_scores_cleanliness, review_scores_checkin, review_scores_communication, review_scores_location, review_scores_value, instant_bookable, calculated_host_listings_count, reviews_per_month]\n",
       "Index: []\n",
       "\n",
       "[0 rows x 42 columns]"
      ]
     },
     "execution_count": 98,
     "metadata": {},
     "output_type": "execute_result"
    }
   ],
   "source": [
    "#Comprobar que se sustituyeron los outliers\n",
    "outliers8= df[(df[\"maximum_nights_avg_ntm\"]>limite_superior_iqr_11)|(df[\"maximum_nights_avg_ntm\"]<limite_inferior_iqr_11)]\n",
    "outliers8"
   ]
  },
  {
   "cell_type": "code",
   "execution_count": 99,
   "metadata": {},
   "outputs": [
    {
     "data": {
      "text/plain": [
       "1.0"
      ]
     },
     "execution_count": 99,
     "metadata": {},
     "output_type": "execute_result"
    }
   ],
   "source": [
    "#Se obtiene la moda para poder sustituir los valores atípicos\n",
    "st.mode(df.host_response_rate)"
   ]
  },
  {
   "cell_type": "code",
   "execution_count": 100,
   "metadata": {},
   "outputs": [],
   "source": [
    "#Se sustituyen los valores atípicos\n",
    "df[\"host_response_rate\"] = np.where(((df[\"host_response_rate\"]>limite_superior_iqr_1)|(df[\"host_response_rate\"]<limite_inferior_iqr_1)),1,df['host_response_rate'])"
   ]
  },
  {
   "cell_type": "code",
   "execution_count": 101,
   "metadata": {},
   "outputs": [
    {
     "data": {
      "text/html": [
       "<div>\n",
       "<style scoped>\n",
       "    .dataframe tbody tr th:only-of-type {\n",
       "        vertical-align: middle;\n",
       "    }\n",
       "\n",
       "    .dataframe tbody tr th {\n",
       "        vertical-align: top;\n",
       "    }\n",
       "\n",
       "    .dataframe thead th {\n",
       "        text-align: right;\n",
       "    }\n",
       "</style>\n",
       "<table border=\"1\" class=\"dataframe\">\n",
       "  <thead>\n",
       "    <tr style=\"text-align: right;\">\n",
       "      <th></th>\n",
       "      <th>id</th>\n",
       "      <th>host_id</th>\n",
       "      <th>host_location</th>\n",
       "      <th>host_response_time</th>\n",
       "      <th>host_response_rate</th>\n",
       "      <th>host_acceptance_rate</th>\n",
       "      <th>host_is_superhost</th>\n",
       "      <th>host_neighbourhood</th>\n",
       "      <th>host_verifications</th>\n",
       "      <th>host_has_profile_pic</th>\n",
       "      <th>...</th>\n",
       "      <th>review_scores_rating</th>\n",
       "      <th>review_scores_accuracy</th>\n",
       "      <th>review_scores_cleanliness</th>\n",
       "      <th>review_scores_checkin</th>\n",
       "      <th>review_scores_communication</th>\n",
       "      <th>review_scores_location</th>\n",
       "      <th>review_scores_value</th>\n",
       "      <th>instant_bookable</th>\n",
       "      <th>calculated_host_listings_count</th>\n",
       "      <th>reviews_per_month</th>\n",
       "    </tr>\n",
       "  </thead>\n",
       "  <tbody>\n",
       "  </tbody>\n",
       "</table>\n",
       "<p>0 rows × 42 columns</p>\n",
       "</div>"
      ],
      "text/plain": [
       "Empty DataFrame\n",
       "Columns: [id, host_id, host_location, host_response_time, host_response_rate, host_acceptance_rate, host_is_superhost, host_neighbourhood, host_verifications, host_has_profile_pic, host_identity_verified, neighbourhood_cleansed, latitude, longitude, property_type, room_type, accommodates, bathrooms, bedrooms, beds, amenities, price, minimum_nights, maximum_nights, minimum_nights_avg_ntm, maximum_nights_avg_ntm, has_availability, availability_30, availability_60, availability_90, availability_365, number_of_reviews_ltm, review_scores_rating, review_scores_accuracy, review_scores_cleanliness, review_scores_checkin, review_scores_communication, review_scores_location, review_scores_value, instant_bookable, calculated_host_listings_count, reviews_per_month]\n",
       "Index: []\n",
       "\n",
       "[0 rows x 42 columns]"
      ]
     },
     "execution_count": 101,
     "metadata": {},
     "output_type": "execute_result"
    }
   ],
   "source": [
    "#Comprobar que se sustituyeron los outliers\n",
    "outliers9= df[(df[\"host_response_rate\"]>limite_superior_iqr_1)|(df[\"host_response_rate\"]<limite_inferior_iqr_1)]\n",
    "outliers9"
   ]
  },
  {
   "cell_type": "code",
   "execution_count": 102,
   "metadata": {},
   "outputs": [
    {
     "data": {
      "text/plain": [
       "1.0"
      ]
     },
     "execution_count": 102,
     "metadata": {},
     "output_type": "execute_result"
    }
   ],
   "source": [
    "#Se obtiene la moda para poder sustituir los valores atípicos\n",
    "st.mode(df.host_acceptance_rate)"
   ]
  },
  {
   "cell_type": "code",
   "execution_count": 103,
   "metadata": {},
   "outputs": [],
   "source": [
    "#Se sustituyen los valores atípicos\n",
    "df[\"host_acceptance_rate\"] = np.where(((df[\"host_acceptance_rate\"]>limite_superior_iqr_2)|(df[\"host_acceptance_rate\"]<limite_inferior_iqr_2)),1,df['host_acceptance_rate'])"
   ]
  },
  {
   "cell_type": "code",
   "execution_count": 104,
   "metadata": {},
   "outputs": [
    {
     "data": {
      "text/html": [
       "<div>\n",
       "<style scoped>\n",
       "    .dataframe tbody tr th:only-of-type {\n",
       "        vertical-align: middle;\n",
       "    }\n",
       "\n",
       "    .dataframe tbody tr th {\n",
       "        vertical-align: top;\n",
       "    }\n",
       "\n",
       "    .dataframe thead th {\n",
       "        text-align: right;\n",
       "    }\n",
       "</style>\n",
       "<table border=\"1\" class=\"dataframe\">\n",
       "  <thead>\n",
       "    <tr style=\"text-align: right;\">\n",
       "      <th></th>\n",
       "      <th>id</th>\n",
       "      <th>host_id</th>\n",
       "      <th>host_location</th>\n",
       "      <th>host_response_time</th>\n",
       "      <th>host_response_rate</th>\n",
       "      <th>host_acceptance_rate</th>\n",
       "      <th>host_is_superhost</th>\n",
       "      <th>host_neighbourhood</th>\n",
       "      <th>host_verifications</th>\n",
       "      <th>host_has_profile_pic</th>\n",
       "      <th>...</th>\n",
       "      <th>review_scores_rating</th>\n",
       "      <th>review_scores_accuracy</th>\n",
       "      <th>review_scores_cleanliness</th>\n",
       "      <th>review_scores_checkin</th>\n",
       "      <th>review_scores_communication</th>\n",
       "      <th>review_scores_location</th>\n",
       "      <th>review_scores_value</th>\n",
       "      <th>instant_bookable</th>\n",
       "      <th>calculated_host_listings_count</th>\n",
       "      <th>reviews_per_month</th>\n",
       "    </tr>\n",
       "  </thead>\n",
       "  <tbody>\n",
       "  </tbody>\n",
       "</table>\n",
       "<p>0 rows × 42 columns</p>\n",
       "</div>"
      ],
      "text/plain": [
       "Empty DataFrame\n",
       "Columns: [id, host_id, host_location, host_response_time, host_response_rate, host_acceptance_rate, host_is_superhost, host_neighbourhood, host_verifications, host_has_profile_pic, host_identity_verified, neighbourhood_cleansed, latitude, longitude, property_type, room_type, accommodates, bathrooms, bedrooms, beds, amenities, price, minimum_nights, maximum_nights, minimum_nights_avg_ntm, maximum_nights_avg_ntm, has_availability, availability_30, availability_60, availability_90, availability_365, number_of_reviews_ltm, review_scores_rating, review_scores_accuracy, review_scores_cleanliness, review_scores_checkin, review_scores_communication, review_scores_location, review_scores_value, instant_bookable, calculated_host_listings_count, reviews_per_month]\n",
       "Index: []\n",
       "\n",
       "[0 rows x 42 columns]"
      ]
     },
     "execution_count": 104,
     "metadata": {},
     "output_type": "execute_result"
    }
   ],
   "source": [
    "#Comprobar que se sustituyeron los outliers\n",
    "outliers10= df[(df[\"host_acceptance_rate\"]>limite_superior_iqr_2)|(df[\"host_acceptance_rate\"]<limite_inferior_iqr_2)]\n",
    "outliers10"
   ]
  },
  {
   "cell_type": "code",
   "execution_count": 105,
   "metadata": {},
   "outputs": [
    {
     "data": {
      "text/plain": [
       "4.630199567203655"
      ]
     },
     "execution_count": 105,
     "metadata": {},
     "output_type": "execute_result"
    }
   ],
   "source": [
    "#Se obtiene la media recortada con límites de 0.25 para poder sustituir los valores atípicos\n",
    "stats.trim_mean(df.accommodates, 0.25)"
   ]
  },
  {
   "cell_type": "code",
   "execution_count": 106,
   "metadata": {},
   "outputs": [],
   "source": [
    "#Se sustituyen los valores atípicos\n",
    "df[\"accommodates\"] = np.where(((df[\"accommodates\"]>limite_superior_iqr_3)|(df[\"accommodates\"]<limite_inferior_iqr_3)),5,df['accommodates'])"
   ]
  },
  {
   "cell_type": "code",
   "execution_count": 107,
   "metadata": {},
   "outputs": [
    {
     "data": {
      "text/html": [
       "<div>\n",
       "<style scoped>\n",
       "    .dataframe tbody tr th:only-of-type {\n",
       "        vertical-align: middle;\n",
       "    }\n",
       "\n",
       "    .dataframe tbody tr th {\n",
       "        vertical-align: top;\n",
       "    }\n",
       "\n",
       "    .dataframe thead th {\n",
       "        text-align: right;\n",
       "    }\n",
       "</style>\n",
       "<table border=\"1\" class=\"dataframe\">\n",
       "  <thead>\n",
       "    <tr style=\"text-align: right;\">\n",
       "      <th></th>\n",
       "      <th>id</th>\n",
       "      <th>host_id</th>\n",
       "      <th>host_location</th>\n",
       "      <th>host_response_time</th>\n",
       "      <th>host_response_rate</th>\n",
       "      <th>host_acceptance_rate</th>\n",
       "      <th>host_is_superhost</th>\n",
       "      <th>host_neighbourhood</th>\n",
       "      <th>host_verifications</th>\n",
       "      <th>host_has_profile_pic</th>\n",
       "      <th>...</th>\n",
       "      <th>review_scores_rating</th>\n",
       "      <th>review_scores_accuracy</th>\n",
       "      <th>review_scores_cleanliness</th>\n",
       "      <th>review_scores_checkin</th>\n",
       "      <th>review_scores_communication</th>\n",
       "      <th>review_scores_location</th>\n",
       "      <th>review_scores_value</th>\n",
       "      <th>instant_bookable</th>\n",
       "      <th>calculated_host_listings_count</th>\n",
       "      <th>reviews_per_month</th>\n",
       "    </tr>\n",
       "  </thead>\n",
       "  <tbody>\n",
       "  </tbody>\n",
       "</table>\n",
       "<p>0 rows × 42 columns</p>\n",
       "</div>"
      ],
      "text/plain": [
       "Empty DataFrame\n",
       "Columns: [id, host_id, host_location, host_response_time, host_response_rate, host_acceptance_rate, host_is_superhost, host_neighbourhood, host_verifications, host_has_profile_pic, host_identity_verified, neighbourhood_cleansed, latitude, longitude, property_type, room_type, accommodates, bathrooms, bedrooms, beds, amenities, price, minimum_nights, maximum_nights, minimum_nights_avg_ntm, maximum_nights_avg_ntm, has_availability, availability_30, availability_60, availability_90, availability_365, number_of_reviews_ltm, review_scores_rating, review_scores_accuracy, review_scores_cleanliness, review_scores_checkin, review_scores_communication, review_scores_location, review_scores_value, instant_bookable, calculated_host_listings_count, reviews_per_month]\n",
       "Index: []\n",
       "\n",
       "[0 rows x 42 columns]"
      ]
     },
     "execution_count": 107,
     "metadata": {},
     "output_type": "execute_result"
    }
   ],
   "source": [
    "#Comprobar que se sustituyeron los outliers\n",
    "outliers11= df[(df[\"accommodates\"]>limite_superior_iqr_3)|(df[\"accommodates\"]<limite_inferior_iqr_3)]\n",
    "outliers11"
   ]
  },
  {
   "cell_type": "code",
   "execution_count": 108,
   "metadata": {},
   "outputs": [
    {
     "data": {
      "text/plain": [
       "5.797307044962731"
      ]
     },
     "execution_count": 108,
     "metadata": {},
     "output_type": "execute_result"
    }
   ],
   "source": [
    "#Se obtiene la media recortada con límites de 0.25 para poder sustituir los valores atípicos\n",
    "stats.trim_mean(df.number_of_reviews_ltm, 0.25)"
   ]
  },
  {
   "cell_type": "code",
   "execution_count": 109,
   "metadata": {},
   "outputs": [],
   "source": [
    "#Se sustituyen los valores atípicos\n",
    "df[\"number_of_reviews_ltm\"] = np.where(((df[\"number_of_reviews_ltm\"]>limite_superior_iqr_12)|(df[\"number_of_reviews_ltm\"]<limite_inferior_iqr_12)),6,df['number_of_reviews_ltm'])"
   ]
  },
  {
   "cell_type": "code",
   "execution_count": 110,
   "metadata": {},
   "outputs": [
    {
     "data": {
      "text/html": [
       "<div>\n",
       "<style scoped>\n",
       "    .dataframe tbody tr th:only-of-type {\n",
       "        vertical-align: middle;\n",
       "    }\n",
       "\n",
       "    .dataframe tbody tr th {\n",
       "        vertical-align: top;\n",
       "    }\n",
       "\n",
       "    .dataframe thead th {\n",
       "        text-align: right;\n",
       "    }\n",
       "</style>\n",
       "<table border=\"1\" class=\"dataframe\">\n",
       "  <thead>\n",
       "    <tr style=\"text-align: right;\">\n",
       "      <th></th>\n",
       "      <th>id</th>\n",
       "      <th>host_id</th>\n",
       "      <th>host_location</th>\n",
       "      <th>host_response_time</th>\n",
       "      <th>host_response_rate</th>\n",
       "      <th>host_acceptance_rate</th>\n",
       "      <th>host_is_superhost</th>\n",
       "      <th>host_neighbourhood</th>\n",
       "      <th>host_verifications</th>\n",
       "      <th>host_has_profile_pic</th>\n",
       "      <th>...</th>\n",
       "      <th>review_scores_rating</th>\n",
       "      <th>review_scores_accuracy</th>\n",
       "      <th>review_scores_cleanliness</th>\n",
       "      <th>review_scores_checkin</th>\n",
       "      <th>review_scores_communication</th>\n",
       "      <th>review_scores_location</th>\n",
       "      <th>review_scores_value</th>\n",
       "      <th>instant_bookable</th>\n",
       "      <th>calculated_host_listings_count</th>\n",
       "      <th>reviews_per_month</th>\n",
       "    </tr>\n",
       "  </thead>\n",
       "  <tbody>\n",
       "  </tbody>\n",
       "</table>\n",
       "<p>0 rows × 42 columns</p>\n",
       "</div>"
      ],
      "text/plain": [
       "Empty DataFrame\n",
       "Columns: [id, host_id, host_location, host_response_time, host_response_rate, host_acceptance_rate, host_is_superhost, host_neighbourhood, host_verifications, host_has_profile_pic, host_identity_verified, neighbourhood_cleansed, latitude, longitude, property_type, room_type, accommodates, bathrooms, bedrooms, beds, amenities, price, minimum_nights, maximum_nights, minimum_nights_avg_ntm, maximum_nights_avg_ntm, has_availability, availability_30, availability_60, availability_90, availability_365, number_of_reviews_ltm, review_scores_rating, review_scores_accuracy, review_scores_cleanliness, review_scores_checkin, review_scores_communication, review_scores_location, review_scores_value, instant_bookable, calculated_host_listings_count, reviews_per_month]\n",
       "Index: []\n",
       "\n",
       "[0 rows x 42 columns]"
      ]
     },
     "execution_count": 110,
     "metadata": {},
     "output_type": "execute_result"
    }
   ],
   "source": [
    "#Comprobar que se sustituyeron los outliers\n",
    "outliers12= df[(df[\"number_of_reviews_ltm\"]>limite_superior_iqr_12)|(df[\"number_of_reviews_ltm\"]<limite_inferior_iqr_12)]\n",
    "outliers12"
   ]
  },
  {
   "cell_type": "code",
   "execution_count": 111,
   "metadata": {},
   "outputs": [
    {
     "data": {
      "text/plain": [
       "4.8942053378215915"
      ]
     },
     "execution_count": 111,
     "metadata": {},
     "output_type": "execute_result"
    }
   ],
   "source": [
    "#Se obtiene la media recortada con límites de 0.25 para poder sustituir los valores atípicos\n",
    "stats.trim_mean(df.calculated_host_listings_count, 0.25)"
   ]
  },
  {
   "cell_type": "code",
   "execution_count": 112,
   "metadata": {},
   "outputs": [],
   "source": [
    "#Se sustituyen los valores atípicos\n",
    "df[\"calculated_host_listings_count\"] = np.where(((df[\"calculated_host_listings_count\"]>limite_superior_iqr_13)|(df[\"calculated_host_listings_count\"]<limite_inferior_iqr_13)),5,df['calculated_host_listings_count'])"
   ]
  },
  {
   "cell_type": "code",
   "execution_count": 113,
   "metadata": {},
   "outputs": [
    {
     "data": {
      "text/html": [
       "<div>\n",
       "<style scoped>\n",
       "    .dataframe tbody tr th:only-of-type {\n",
       "        vertical-align: middle;\n",
       "    }\n",
       "\n",
       "    .dataframe tbody tr th {\n",
       "        vertical-align: top;\n",
       "    }\n",
       "\n",
       "    .dataframe thead th {\n",
       "        text-align: right;\n",
       "    }\n",
       "</style>\n",
       "<table border=\"1\" class=\"dataframe\">\n",
       "  <thead>\n",
       "    <tr style=\"text-align: right;\">\n",
       "      <th></th>\n",
       "      <th>id</th>\n",
       "      <th>host_id</th>\n",
       "      <th>host_location</th>\n",
       "      <th>host_response_time</th>\n",
       "      <th>host_response_rate</th>\n",
       "      <th>host_acceptance_rate</th>\n",
       "      <th>host_is_superhost</th>\n",
       "      <th>host_neighbourhood</th>\n",
       "      <th>host_verifications</th>\n",
       "      <th>host_has_profile_pic</th>\n",
       "      <th>...</th>\n",
       "      <th>review_scores_rating</th>\n",
       "      <th>review_scores_accuracy</th>\n",
       "      <th>review_scores_cleanliness</th>\n",
       "      <th>review_scores_checkin</th>\n",
       "      <th>review_scores_communication</th>\n",
       "      <th>review_scores_location</th>\n",
       "      <th>review_scores_value</th>\n",
       "      <th>instant_bookable</th>\n",
       "      <th>calculated_host_listings_count</th>\n",
       "      <th>reviews_per_month</th>\n",
       "    </tr>\n",
       "  </thead>\n",
       "  <tbody>\n",
       "  </tbody>\n",
       "</table>\n",
       "<p>0 rows × 42 columns</p>\n",
       "</div>"
      ],
      "text/plain": [
       "Empty DataFrame\n",
       "Columns: [id, host_id, host_location, host_response_time, host_response_rate, host_acceptance_rate, host_is_superhost, host_neighbourhood, host_verifications, host_has_profile_pic, host_identity_verified, neighbourhood_cleansed, latitude, longitude, property_type, room_type, accommodates, bathrooms, bedrooms, beds, amenities, price, minimum_nights, maximum_nights, minimum_nights_avg_ntm, maximum_nights_avg_ntm, has_availability, availability_30, availability_60, availability_90, availability_365, number_of_reviews_ltm, review_scores_rating, review_scores_accuracy, review_scores_cleanliness, review_scores_checkin, review_scores_communication, review_scores_location, review_scores_value, instant_bookable, calculated_host_listings_count, reviews_per_month]\n",
       "Index: []\n",
       "\n",
       "[0 rows x 42 columns]"
      ]
     },
     "execution_count": 113,
     "metadata": {},
     "output_type": "execute_result"
    }
   ],
   "source": [
    "#Comprobar que se sustituyeron los outliers\n",
    "outliers13= df[(df[\"calculated_host_listings_count\"]>limite_superior_iqr_13)|(df[\"calculated_host_listings_count\"]<limite_inferior_iqr_13)]\n",
    "outliers13"
   ]
  },
  {
   "cell_type": "code",
   "execution_count": 114,
   "metadata": {},
   "outputs": [],
   "source": [
    "#Convertir base de datos limpia a csv\n",
    "df.to_csv(\"datosfinalesfl.csv\")"
   ]
  },
  {
   "cell_type": "code",
   "execution_count": 115,
   "metadata": {},
   "outputs": [],
   "source": [
    "import seaborn as sns"
   ]
  },
  {
   "cell_type": "code",
   "execution_count": 124,
   "metadata": {},
   "outputs": [
    {
     "data": {
      "text/html": [
       "<div>\n",
       "<style scoped>\n",
       "    .dataframe tbody tr th:only-of-type {\n",
       "        vertical-align: middle;\n",
       "    }\n",
       "\n",
       "    .dataframe tbody tr th {\n",
       "        vertical-align: top;\n",
       "    }\n",
       "\n",
       "    .dataframe thead th {\n",
       "        text-align: right;\n",
       "    }\n",
       "</style>\n",
       "<table border=\"1\" class=\"dataframe\">\n",
       "  <thead>\n",
       "    <tr style=\"text-align: right;\">\n",
       "      <th></th>\n",
       "      <th>host_response_rate</th>\n",
       "      <th>host_acceptance_rate</th>\n",
       "      <th>accommodates</th>\n",
       "      <th>bathrooms</th>\n",
       "      <th>bedrooms</th>\n",
       "      <th>beds</th>\n",
       "      <th>minimum_nights</th>\n",
       "      <th>maximum_nights</th>\n",
       "      <th>minimum_nights_avg_ntm</th>\n",
       "      <th>maximum_nights_avg_ntm</th>\n",
       "      <th>...</th>\n",
       "      <th>review_scores_rating</th>\n",
       "      <th>review_scores_accuracy</th>\n",
       "      <th>review_scores_cleanliness</th>\n",
       "      <th>review_scores_checkin</th>\n",
       "      <th>review_scores_communication</th>\n",
       "      <th>review_scores_location</th>\n",
       "      <th>review_scores_value</th>\n",
       "      <th>calculated_host_listings_count</th>\n",
       "      <th>reviews_per_month</th>\n",
       "      <th>price</th>\n",
       "    </tr>\n",
       "  </thead>\n",
       "  <tbody>\n",
       "    <tr>\n",
       "      <th>0</th>\n",
       "      <td>1.00</td>\n",
       "      <td>0.83</td>\n",
       "      <td>8</td>\n",
       "      <td>2.0</td>\n",
       "      <td>4.0</td>\n",
       "      <td>5.0</td>\n",
       "      <td>3</td>\n",
       "      <td>365</td>\n",
       "      <td>2.9</td>\n",
       "      <td>1125.0</td>\n",
       "      <td>...</td>\n",
       "      <td>4.97</td>\n",
       "      <td>5.00</td>\n",
       "      <td>4.91</td>\n",
       "      <td>5.00</td>\n",
       "      <td>5.00</td>\n",
       "      <td>4.73</td>\n",
       "      <td>4.91</td>\n",
       "      <td>2</td>\n",
       "      <td>1.16</td>\n",
       "      <td>307.0</td>\n",
       "    </tr>\n",
       "    <tr>\n",
       "      <th>1</th>\n",
       "      <td>1.00</td>\n",
       "      <td>0.92</td>\n",
       "      <td>8</td>\n",
       "      <td>2.0</td>\n",
       "      <td>3.0</td>\n",
       "      <td>4.0</td>\n",
       "      <td>3</td>\n",
       "      <td>60</td>\n",
       "      <td>3.1</td>\n",
       "      <td>60.0</td>\n",
       "      <td>...</td>\n",
       "      <td>4.81</td>\n",
       "      <td>4.68</td>\n",
       "      <td>4.71</td>\n",
       "      <td>4.87</td>\n",
       "      <td>5.00</td>\n",
       "      <td>4.68</td>\n",
       "      <td>4.65</td>\n",
       "      <td>2</td>\n",
       "      <td>0.60</td>\n",
       "      <td>374.0</td>\n",
       "    </tr>\n",
       "    <tr>\n",
       "      <th>2</th>\n",
       "      <td>1.00</td>\n",
       "      <td>0.99</td>\n",
       "      <td>8</td>\n",
       "      <td>2.0</td>\n",
       "      <td>2.0</td>\n",
       "      <td>4.0</td>\n",
       "      <td>2</td>\n",
       "      <td>365</td>\n",
       "      <td>1.0</td>\n",
       "      <td>253.9</td>\n",
       "      <td>...</td>\n",
       "      <td>4.83</td>\n",
       "      <td>4.88</td>\n",
       "      <td>4.83</td>\n",
       "      <td>4.94</td>\n",
       "      <td>4.93</td>\n",
       "      <td>4.90</td>\n",
       "      <td>4.78</td>\n",
       "      <td>13</td>\n",
       "      <td>0.00</td>\n",
       "      <td>268.0</td>\n",
       "    </tr>\n",
       "    <tr>\n",
       "      <th>3</th>\n",
       "      <td>1.00</td>\n",
       "      <td>0.99</td>\n",
       "      <td>8</td>\n",
       "      <td>2.0</td>\n",
       "      <td>2.0</td>\n",
       "      <td>4.0</td>\n",
       "      <td>2</td>\n",
       "      <td>1125</td>\n",
       "      <td>1.0</td>\n",
       "      <td>253.9</td>\n",
       "      <td>...</td>\n",
       "      <td>4.83</td>\n",
       "      <td>4.88</td>\n",
       "      <td>4.83</td>\n",
       "      <td>4.94</td>\n",
       "      <td>4.93</td>\n",
       "      <td>4.90</td>\n",
       "      <td>4.78</td>\n",
       "      <td>13</td>\n",
       "      <td>0.00</td>\n",
       "      <td>294.0</td>\n",
       "    </tr>\n",
       "    <tr>\n",
       "      <th>4</th>\n",
       "      <td>1.00</td>\n",
       "      <td>0.98</td>\n",
       "      <td>4</td>\n",
       "      <td>1.0</td>\n",
       "      <td>1.0</td>\n",
       "      <td>2.0</td>\n",
       "      <td>1</td>\n",
       "      <td>30</td>\n",
       "      <td>1.0</td>\n",
       "      <td>30.0</td>\n",
       "      <td>...</td>\n",
       "      <td>4.82</td>\n",
       "      <td>4.89</td>\n",
       "      <td>4.82</td>\n",
       "      <td>4.98</td>\n",
       "      <td>4.96</td>\n",
       "      <td>4.84</td>\n",
       "      <td>4.88</td>\n",
       "      <td>1</td>\n",
       "      <td>1.75</td>\n",
       "      <td>104.0</td>\n",
       "    </tr>\n",
       "    <tr>\n",
       "      <th>...</th>\n",
       "      <td>...</td>\n",
       "      <td>...</td>\n",
       "      <td>...</td>\n",
       "      <td>...</td>\n",
       "      <td>...</td>\n",
       "      <td>...</td>\n",
       "      <td>...</td>\n",
       "      <td>...</td>\n",
       "      <td>...</td>\n",
       "      <td>...</td>\n",
       "      <td>...</td>\n",
       "      <td>...</td>\n",
       "      <td>...</td>\n",
       "      <td>...</td>\n",
       "      <td>...</td>\n",
       "      <td>...</td>\n",
       "      <td>...</td>\n",
       "      <td>...</td>\n",
       "      <td>...</td>\n",
       "      <td>...</td>\n",
       "      <td>...</td>\n",
       "    </tr>\n",
       "    <tr>\n",
       "      <th>16629</th>\n",
       "      <td>1.00</td>\n",
       "      <td>0.96</td>\n",
       "      <td>2</td>\n",
       "      <td>1.0</td>\n",
       "      <td>1.0</td>\n",
       "      <td>1.0</td>\n",
       "      <td>1</td>\n",
       "      <td>365</td>\n",
       "      <td>1.0</td>\n",
       "      <td>365.0</td>\n",
       "      <td>...</td>\n",
       "      <td>4.61</td>\n",
       "      <td>4.61</td>\n",
       "      <td>4.44</td>\n",
       "      <td>4.72</td>\n",
       "      <td>4.67</td>\n",
       "      <td>4.89</td>\n",
       "      <td>4.61</td>\n",
       "      <td>6</td>\n",
       "      <td>0.51</td>\n",
       "      <td>59.0</td>\n",
       "    </tr>\n",
       "    <tr>\n",
       "      <th>16630</th>\n",
       "      <td>1.00</td>\n",
       "      <td>1.00</td>\n",
       "      <td>4</td>\n",
       "      <td>1.5</td>\n",
       "      <td>1.0</td>\n",
       "      <td>3.0</td>\n",
       "      <td>2</td>\n",
       "      <td>1125</td>\n",
       "      <td>2.0</td>\n",
       "      <td>1125.0</td>\n",
       "      <td>...</td>\n",
       "      <td>5.00</td>\n",
       "      <td>5.00</td>\n",
       "      <td>4.87</td>\n",
       "      <td>4.91</td>\n",
       "      <td>5.00</td>\n",
       "      <td>5.00</td>\n",
       "      <td>4.87</td>\n",
       "      <td>1</td>\n",
       "      <td>2.57</td>\n",
       "      <td>129.0</td>\n",
       "    </tr>\n",
       "    <tr>\n",
       "      <th>16631</th>\n",
       "      <td>1.00</td>\n",
       "      <td>1.00</td>\n",
       "      <td>2</td>\n",
       "      <td>1.0</td>\n",
       "      <td>1.0</td>\n",
       "      <td>1.0</td>\n",
       "      <td>1</td>\n",
       "      <td>365</td>\n",
       "      <td>4.2</td>\n",
       "      <td>318.1</td>\n",
       "      <td>...</td>\n",
       "      <td>4.83</td>\n",
       "      <td>4.88</td>\n",
       "      <td>4.83</td>\n",
       "      <td>4.94</td>\n",
       "      <td>4.93</td>\n",
       "      <td>4.90</td>\n",
       "      <td>4.78</td>\n",
       "      <td>2</td>\n",
       "      <td>0.00</td>\n",
       "      <td>131.0</td>\n",
       "    </tr>\n",
       "    <tr>\n",
       "      <th>16632</th>\n",
       "      <td>0.98</td>\n",
       "      <td>1.00</td>\n",
       "      <td>6</td>\n",
       "      <td>2.0</td>\n",
       "      <td>2.0</td>\n",
       "      <td>3.0</td>\n",
       "      <td>2</td>\n",
       "      <td>1125</td>\n",
       "      <td>2.0</td>\n",
       "      <td>1125.0</td>\n",
       "      <td>...</td>\n",
       "      <td>5.00</td>\n",
       "      <td>5.00</td>\n",
       "      <td>5.00</td>\n",
       "      <td>4.88</td>\n",
       "      <td>5.00</td>\n",
       "      <td>5.00</td>\n",
       "      <td>4.88</td>\n",
       "      <td>7</td>\n",
       "      <td>2.33</td>\n",
       "      <td>192.0</td>\n",
       "    </tr>\n",
       "    <tr>\n",
       "      <th>16633</th>\n",
       "      <td>1.00</td>\n",
       "      <td>0.96</td>\n",
       "      <td>4</td>\n",
       "      <td>1.0</td>\n",
       "      <td>1.0</td>\n",
       "      <td>3.0</td>\n",
       "      <td>1</td>\n",
       "      <td>1125</td>\n",
       "      <td>1.0</td>\n",
       "      <td>1125.0</td>\n",
       "      <td>...</td>\n",
       "      <td>4.92</td>\n",
       "      <td>5.00</td>\n",
       "      <td>4.92</td>\n",
       "      <td>4.85</td>\n",
       "      <td>5.00</td>\n",
       "      <td>5.00</td>\n",
       "      <td>4.85</td>\n",
       "      <td>2</td>\n",
       "      <td>2.31</td>\n",
       "      <td>113.0</td>\n",
       "    </tr>\n",
       "  </tbody>\n",
       "</table>\n",
       "<p>16634 rows × 25 columns</p>\n",
       "</div>"
      ],
      "text/plain": [
       "       host_response_rate  host_acceptance_rate  accommodates  bathrooms  \\\n",
       "0                    1.00                  0.83             8        2.0   \n",
       "1                    1.00                  0.92             8        2.0   \n",
       "2                    1.00                  0.99             8        2.0   \n",
       "3                    1.00                  0.99             8        2.0   \n",
       "4                    1.00                  0.98             4        1.0   \n",
       "...                   ...                   ...           ...        ...   \n",
       "16629                1.00                  0.96             2        1.0   \n",
       "16630                1.00                  1.00             4        1.5   \n",
       "16631                1.00                  1.00             2        1.0   \n",
       "16632                0.98                  1.00             6        2.0   \n",
       "16633                1.00                  0.96             4        1.0   \n",
       "\n",
       "       bedrooms  beds  minimum_nights  maximum_nights  minimum_nights_avg_ntm  \\\n",
       "0           4.0   5.0               3             365                     2.9   \n",
       "1           3.0   4.0               3              60                     3.1   \n",
       "2           2.0   4.0               2             365                     1.0   \n",
       "3           2.0   4.0               2            1125                     1.0   \n",
       "4           1.0   2.0               1              30                     1.0   \n",
       "...         ...   ...             ...             ...                     ...   \n",
       "16629       1.0   1.0               1             365                     1.0   \n",
       "16630       1.0   3.0               2            1125                     2.0   \n",
       "16631       1.0   1.0               1             365                     4.2   \n",
       "16632       2.0   3.0               2            1125                     2.0   \n",
       "16633       1.0   3.0               1            1125                     1.0   \n",
       "\n",
       "       maximum_nights_avg_ntm  ...  review_scores_rating  \\\n",
       "0                      1125.0  ...                  4.97   \n",
       "1                        60.0  ...                  4.81   \n",
       "2                       253.9  ...                  4.83   \n",
       "3                       253.9  ...                  4.83   \n",
       "4                        30.0  ...                  4.82   \n",
       "...                       ...  ...                   ...   \n",
       "16629                   365.0  ...                  4.61   \n",
       "16630                  1125.0  ...                  5.00   \n",
       "16631                   318.1  ...                  4.83   \n",
       "16632                  1125.0  ...                  5.00   \n",
       "16633                  1125.0  ...                  4.92   \n",
       "\n",
       "       review_scores_accuracy  review_scores_cleanliness  \\\n",
       "0                        5.00                       4.91   \n",
       "1                        4.68                       4.71   \n",
       "2                        4.88                       4.83   \n",
       "3                        4.88                       4.83   \n",
       "4                        4.89                       4.82   \n",
       "...                       ...                        ...   \n",
       "16629                    4.61                       4.44   \n",
       "16630                    5.00                       4.87   \n",
       "16631                    4.88                       4.83   \n",
       "16632                    5.00                       5.00   \n",
       "16633                    5.00                       4.92   \n",
       "\n",
       "       review_scores_checkin  review_scores_communication  \\\n",
       "0                       5.00                         5.00   \n",
       "1                       4.87                         5.00   \n",
       "2                       4.94                         4.93   \n",
       "3                       4.94                         4.93   \n",
       "4                       4.98                         4.96   \n",
       "...                      ...                          ...   \n",
       "16629                   4.72                         4.67   \n",
       "16630                   4.91                         5.00   \n",
       "16631                   4.94                         4.93   \n",
       "16632                   4.88                         5.00   \n",
       "16633                   4.85                         5.00   \n",
       "\n",
       "       review_scores_location  review_scores_value  \\\n",
       "0                        4.73                 4.91   \n",
       "1                        4.68                 4.65   \n",
       "2                        4.90                 4.78   \n",
       "3                        4.90                 4.78   \n",
       "4                        4.84                 4.88   \n",
       "...                       ...                  ...   \n",
       "16629                    4.89                 4.61   \n",
       "16630                    5.00                 4.87   \n",
       "16631                    4.90                 4.78   \n",
       "16632                    5.00                 4.88   \n",
       "16633                    5.00                 4.85   \n",
       "\n",
       "       calculated_host_listings_count  reviews_per_month  price  \n",
       "0                                   2               1.16  307.0  \n",
       "1                                   2               0.60  374.0  \n",
       "2                                  13               0.00  268.0  \n",
       "3                                  13               0.00  294.0  \n",
       "4                                   1               1.75  104.0  \n",
       "...                               ...                ...    ...  \n",
       "16629                               6               0.51   59.0  \n",
       "16630                               1               2.57  129.0  \n",
       "16631                               2               0.00  131.0  \n",
       "16632                               7               2.33  192.0  \n",
       "16633                               2               2.31  113.0  \n",
       "\n",
       "[16634 rows x 25 columns]"
      ]
     },
     "execution_count": 124,
     "metadata": {},
     "output_type": "execute_result"
    }
   ],
   "source": [
    "dfn= df[[\"host_response_rate\",\"host_acceptance_rate\",\"accommodates\",\"bathrooms\",\"bedrooms\",\"beds\",\"minimum_nights\",\n",
    "\"maximum_nights\",\"minimum_nights_avg_ntm\",\"maximum_nights_avg_ntm\",\"availability_30\",\"availability_60\",\"availability_90\",\n",
    "\"availability_365\",\"number_of_reviews_ltm\",\"review_scores_rating\",\"review_scores_accuracy\",\"review_scores_cleanliness\",\n",
    "\"review_scores_checkin\",\"review_scores_communication\",\"review_scores_location\",\"review_scores_value\",\"calculated_host_listings_count\",\n",
    "\"reviews_per_month\",\"price\"]]\n",
    "dfn\n"
   ]
  },
  {
   "cell_type": "code",
   "execution_count": 125,
   "metadata": {},
   "outputs": [
    {
     "data": {
      "text/html": [
       "<div>\n",
       "<style scoped>\n",
       "    .dataframe tbody tr th:only-of-type {\n",
       "        vertical-align: middle;\n",
       "    }\n",
       "\n",
       "    .dataframe tbody tr th {\n",
       "        vertical-align: top;\n",
       "    }\n",
       "\n",
       "    .dataframe thead th {\n",
       "        text-align: right;\n",
       "    }\n",
       "</style>\n",
       "<table border=\"1\" class=\"dataframe\">\n",
       "  <thead>\n",
       "    <tr style=\"text-align: right;\">\n",
       "      <th></th>\n",
       "      <th>host_response_rate</th>\n",
       "      <th>host_acceptance_rate</th>\n",
       "      <th>accommodates</th>\n",
       "      <th>bathrooms</th>\n",
       "      <th>bedrooms</th>\n",
       "      <th>beds</th>\n",
       "      <th>minimum_nights</th>\n",
       "      <th>maximum_nights</th>\n",
       "      <th>minimum_nights_avg_ntm</th>\n",
       "      <th>maximum_nights_avg_ntm</th>\n",
       "      <th>...</th>\n",
       "      <th>review_scores_rating</th>\n",
       "      <th>review_scores_accuracy</th>\n",
       "      <th>review_scores_cleanliness</th>\n",
       "      <th>review_scores_checkin</th>\n",
       "      <th>review_scores_communication</th>\n",
       "      <th>review_scores_location</th>\n",
       "      <th>review_scores_value</th>\n",
       "      <th>calculated_host_listings_count</th>\n",
       "      <th>reviews_per_month</th>\n",
       "      <th>price</th>\n",
       "    </tr>\n",
       "  </thead>\n",
       "  <tbody>\n",
       "    <tr>\n",
       "      <th>host_response_rate</th>\n",
       "      <td>1.000000</td>\n",
       "      <td>-0.025031</td>\n",
       "      <td>-0.059593</td>\n",
       "      <td>-0.054043</td>\n",
       "      <td>-0.041239</td>\n",
       "      <td>-0.055503</td>\n",
       "      <td>0.044233</td>\n",
       "      <td>0.036634</td>\n",
       "      <td>0.016037</td>\n",
       "      <td>0.048827</td>\n",
       "      <td>...</td>\n",
       "      <td>0.038563</td>\n",
       "      <td>0.042017</td>\n",
       "      <td>0.039428</td>\n",
       "      <td>0.049155</td>\n",
       "      <td>0.061000</td>\n",
       "      <td>0.010541</td>\n",
       "      <td>0.050791</td>\n",
       "      <td>-0.142965</td>\n",
       "      <td>-0.000819</td>\n",
       "      <td>-0.036209</td>\n",
       "    </tr>\n",
       "    <tr>\n",
       "      <th>host_acceptance_rate</th>\n",
       "      <td>-0.025031</td>\n",
       "      <td>1.000000</td>\n",
       "      <td>0.043971</td>\n",
       "      <td>-0.011153</td>\n",
       "      <td>0.018865</td>\n",
       "      <td>0.033842</td>\n",
       "      <td>-0.033710</td>\n",
       "      <td>0.002362</td>\n",
       "      <td>-0.004705</td>\n",
       "      <td>0.080030</td>\n",
       "      <td>...</td>\n",
       "      <td>0.015436</td>\n",
       "      <td>0.003181</td>\n",
       "      <td>-0.001954</td>\n",
       "      <td>-0.005723</td>\n",
       "      <td>-0.004523</td>\n",
       "      <td>-0.021498</td>\n",
       "      <td>-0.005818</td>\n",
       "      <td>0.107835</td>\n",
       "      <td>0.138860</td>\n",
       "      <td>-0.029997</td>\n",
       "    </tr>\n",
       "    <tr>\n",
       "      <th>accommodates</th>\n",
       "      <td>-0.059593</td>\n",
       "      <td>0.043971</td>\n",
       "      <td>1.000000</td>\n",
       "      <td>0.612476</td>\n",
       "      <td>0.715715</td>\n",
       "      <td>0.749266</td>\n",
       "      <td>0.177419</td>\n",
       "      <td>0.065197</td>\n",
       "      <td>0.204665</td>\n",
       "      <td>0.050492</td>\n",
       "      <td>...</td>\n",
       "      <td>0.038329</td>\n",
       "      <td>0.030942</td>\n",
       "      <td>0.010354</td>\n",
       "      <td>0.024450</td>\n",
       "      <td>0.024979</td>\n",
       "      <td>0.021585</td>\n",
       "      <td>0.013445</td>\n",
       "      <td>-0.015882</td>\n",
       "      <td>-0.002076</td>\n",
       "      <td>0.569570</td>\n",
       "    </tr>\n",
       "    <tr>\n",
       "      <th>bathrooms</th>\n",
       "      <td>-0.054043</td>\n",
       "      <td>-0.011153</td>\n",
       "      <td>0.612476</td>\n",
       "      <td>1.000000</td>\n",
       "      <td>0.629524</td>\n",
       "      <td>0.569377</td>\n",
       "      <td>0.152977</td>\n",
       "      <td>0.050226</td>\n",
       "      <td>0.173961</td>\n",
       "      <td>0.041347</td>\n",
       "      <td>...</td>\n",
       "      <td>0.049967</td>\n",
       "      <td>0.048141</td>\n",
       "      <td>0.029667</td>\n",
       "      <td>0.035674</td>\n",
       "      <td>0.032667</td>\n",
       "      <td>0.033178</td>\n",
       "      <td>0.037306</td>\n",
       "      <td>-0.021197</td>\n",
       "      <td>-0.037101</td>\n",
       "      <td>0.525855</td>\n",
       "    </tr>\n",
       "    <tr>\n",
       "      <th>bedrooms</th>\n",
       "      <td>-0.041239</td>\n",
       "      <td>0.018865</td>\n",
       "      <td>0.715715</td>\n",
       "      <td>0.629524</td>\n",
       "      <td>1.000000</td>\n",
       "      <td>0.755618</td>\n",
       "      <td>0.143851</td>\n",
       "      <td>0.047556</td>\n",
       "      <td>0.166376</td>\n",
       "      <td>0.036210</td>\n",
       "      <td>...</td>\n",
       "      <td>0.075342</td>\n",
       "      <td>0.066583</td>\n",
       "      <td>0.055918</td>\n",
       "      <td>0.082124</td>\n",
       "      <td>0.063885</td>\n",
       "      <td>0.024248</td>\n",
       "      <td>0.055241</td>\n",
       "      <td>-0.053735</td>\n",
       "      <td>0.001870</td>\n",
       "      <td>0.530282</td>\n",
       "    </tr>\n",
       "    <tr>\n",
       "      <th>beds</th>\n",
       "      <td>-0.055503</td>\n",
       "      <td>0.033842</td>\n",
       "      <td>0.749266</td>\n",
       "      <td>0.569377</td>\n",
       "      <td>0.755618</td>\n",
       "      <td>1.000000</td>\n",
       "      <td>0.156520</td>\n",
       "      <td>0.063185</td>\n",
       "      <td>0.171252</td>\n",
       "      <td>0.056515</td>\n",
       "      <td>...</td>\n",
       "      <td>0.046780</td>\n",
       "      <td>0.036947</td>\n",
       "      <td>0.022367</td>\n",
       "      <td>0.030909</td>\n",
       "      <td>0.034614</td>\n",
       "      <td>0.024711</td>\n",
       "      <td>0.025714</td>\n",
       "      <td>-0.036259</td>\n",
       "      <td>0.000339</td>\n",
       "      <td>0.494212</td>\n",
       "    </tr>\n",
       "    <tr>\n",
       "      <th>minimum_nights</th>\n",
       "      <td>0.044233</td>\n",
       "      <td>-0.033710</td>\n",
       "      <td>0.177419</td>\n",
       "      <td>0.152977</td>\n",
       "      <td>0.143851</td>\n",
       "      <td>0.156520</td>\n",
       "      <td>1.000000</td>\n",
       "      <td>0.049684</td>\n",
       "      <td>0.799854</td>\n",
       "      <td>0.011866</td>\n",
       "      <td>...</td>\n",
       "      <td>0.038471</td>\n",
       "      <td>0.035997</td>\n",
       "      <td>0.019578</td>\n",
       "      <td>0.011818</td>\n",
       "      <td>0.022027</td>\n",
       "      <td>0.055481</td>\n",
       "      <td>0.033177</td>\n",
       "      <td>-0.076325</td>\n",
       "      <td>-0.129955</td>\n",
       "      <td>0.194139</td>\n",
       "    </tr>\n",
       "    <tr>\n",
       "      <th>maximum_nights</th>\n",
       "      <td>0.036634</td>\n",
       "      <td>0.002362</td>\n",
       "      <td>0.065197</td>\n",
       "      <td>0.050226</td>\n",
       "      <td>0.047556</td>\n",
       "      <td>0.063185</td>\n",
       "      <td>0.049684</td>\n",
       "      <td>1.000000</td>\n",
       "      <td>0.017311</td>\n",
       "      <td>0.560713</td>\n",
       "      <td>...</td>\n",
       "      <td>-0.007560</td>\n",
       "      <td>-0.004028</td>\n",
       "      <td>-0.017284</td>\n",
       "      <td>-0.010205</td>\n",
       "      <td>-0.013530</td>\n",
       "      <td>0.007202</td>\n",
       "      <td>-0.015439</td>\n",
       "      <td>-0.050974</td>\n",
       "      <td>-0.001827</td>\n",
       "      <td>0.063044</td>\n",
       "    </tr>\n",
       "    <tr>\n",
       "      <th>minimum_nights_avg_ntm</th>\n",
       "      <td>0.016037</td>\n",
       "      <td>-0.004705</td>\n",
       "      <td>0.204665</td>\n",
       "      <td>0.173961</td>\n",
       "      <td>0.166376</td>\n",
       "      <td>0.171252</td>\n",
       "      <td>0.799854</td>\n",
       "      <td>0.017311</td>\n",
       "      <td>1.000000</td>\n",
       "      <td>-0.018512</td>\n",
       "      <td>...</td>\n",
       "      <td>0.034132</td>\n",
       "      <td>0.027583</td>\n",
       "      <td>0.006600</td>\n",
       "      <td>-0.000642</td>\n",
       "      <td>0.007506</td>\n",
       "      <td>0.054306</td>\n",
       "      <td>0.015855</td>\n",
       "      <td>0.009090</td>\n",
       "      <td>-0.094886</td>\n",
       "      <td>0.205051</td>\n",
       "    </tr>\n",
       "    <tr>\n",
       "      <th>maximum_nights_avg_ntm</th>\n",
       "      <td>0.048827</td>\n",
       "      <td>0.080030</td>\n",
       "      <td>0.050492</td>\n",
       "      <td>0.041347</td>\n",
       "      <td>0.036210</td>\n",
       "      <td>0.056515</td>\n",
       "      <td>0.011866</td>\n",
       "      <td>0.560713</td>\n",
       "      <td>-0.018512</td>\n",
       "      <td>1.000000</td>\n",
       "      <td>...</td>\n",
       "      <td>0.032478</td>\n",
       "      <td>0.028161</td>\n",
       "      <td>0.014985</td>\n",
       "      <td>0.022222</td>\n",
       "      <td>0.023872</td>\n",
       "      <td>-0.001435</td>\n",
       "      <td>0.020766</td>\n",
       "      <td>-0.009685</td>\n",
       "      <td>0.132342</td>\n",
       "      <td>-0.001719</td>\n",
       "    </tr>\n",
       "    <tr>\n",
       "      <th>availability_30</th>\n",
       "      <td>-0.051133</td>\n",
       "      <td>0.038605</td>\n",
       "      <td>0.082546</td>\n",
       "      <td>0.046668</td>\n",
       "      <td>0.067747</td>\n",
       "      <td>0.065735</td>\n",
       "      <td>-0.032401</td>\n",
       "      <td>0.000027</td>\n",
       "      <td>-0.011331</td>\n",
       "      <td>-0.025830</td>\n",
       "      <td>...</td>\n",
       "      <td>-0.017784</td>\n",
       "      <td>-0.038387</td>\n",
       "      <td>-0.035256</td>\n",
       "      <td>-0.022705</td>\n",
       "      <td>-0.031816</td>\n",
       "      <td>-0.020250</td>\n",
       "      <td>-0.054325</td>\n",
       "      <td>0.104945</td>\n",
       "      <td>-0.008818</td>\n",
       "      <td>0.091101</td>\n",
       "    </tr>\n",
       "    <tr>\n",
       "      <th>availability_60</th>\n",
       "      <td>-0.054871</td>\n",
       "      <td>0.060097</td>\n",
       "      <td>0.087738</td>\n",
       "      <td>0.045023</td>\n",
       "      <td>0.065548</td>\n",
       "      <td>0.070127</td>\n",
       "      <td>-0.035623</td>\n",
       "      <td>-0.008493</td>\n",
       "      <td>-0.000167</td>\n",
       "      <td>-0.015892</td>\n",
       "      <td>...</td>\n",
       "      <td>-0.019086</td>\n",
       "      <td>-0.039942</td>\n",
       "      <td>-0.039577</td>\n",
       "      <td>-0.022356</td>\n",
       "      <td>-0.030481</td>\n",
       "      <td>-0.027735</td>\n",
       "      <td>-0.057756</td>\n",
       "      <td>0.121884</td>\n",
       "      <td>0.028518</td>\n",
       "      <td>0.069610</td>\n",
       "    </tr>\n",
       "    <tr>\n",
       "      <th>availability_90</th>\n",
       "      <td>-0.061334</td>\n",
       "      <td>0.074045</td>\n",
       "      <td>0.086734</td>\n",
       "      <td>0.042603</td>\n",
       "      <td>0.064406</td>\n",
       "      <td>0.072474</td>\n",
       "      <td>-0.033230</td>\n",
       "      <td>-0.008738</td>\n",
       "      <td>0.005974</td>\n",
       "      <td>-0.005985</td>\n",
       "      <td>...</td>\n",
       "      <td>-0.015673</td>\n",
       "      <td>-0.037409</td>\n",
       "      <td>-0.039500</td>\n",
       "      <td>-0.020371</td>\n",
       "      <td>-0.028599</td>\n",
       "      <td>-0.026160</td>\n",
       "      <td>-0.056462</td>\n",
       "      <td>0.133392</td>\n",
       "      <td>0.046682</td>\n",
       "      <td>0.061754</td>\n",
       "    </tr>\n",
       "    <tr>\n",
       "      <th>availability_365</th>\n",
       "      <td>-0.065070</td>\n",
       "      <td>0.078685</td>\n",
       "      <td>0.068702</td>\n",
       "      <td>0.058963</td>\n",
       "      <td>0.072976</td>\n",
       "      <td>0.066258</td>\n",
       "      <td>-0.022743</td>\n",
       "      <td>0.064475</td>\n",
       "      <td>-0.000231</td>\n",
       "      <td>0.026075</td>\n",
       "      <td>...</td>\n",
       "      <td>-0.010412</td>\n",
       "      <td>-0.035154</td>\n",
       "      <td>-0.032453</td>\n",
       "      <td>-0.017725</td>\n",
       "      <td>-0.036018</td>\n",
       "      <td>-0.006774</td>\n",
       "      <td>-0.044537</td>\n",
       "      <td>0.107671</td>\n",
       "      <td>0.014878</td>\n",
       "      <td>0.067653</td>\n",
       "    </tr>\n",
       "    <tr>\n",
       "      <th>number_of_reviews_ltm</th>\n",
       "      <td>0.005393</td>\n",
       "      <td>0.124954</td>\n",
       "      <td>0.042857</td>\n",
       "      <td>-0.003561</td>\n",
       "      <td>0.035817</td>\n",
       "      <td>0.042651</td>\n",
       "      <td>-0.010306</td>\n",
       "      <td>0.085938</td>\n",
       "      <td>0.007833</td>\n",
       "      <td>0.201633</td>\n",
       "      <td>...</td>\n",
       "      <td>0.074308</td>\n",
       "      <td>0.057780</td>\n",
       "      <td>0.050354</td>\n",
       "      <td>0.049086</td>\n",
       "      <td>0.056463</td>\n",
       "      <td>0.005498</td>\n",
       "      <td>0.064377</td>\n",
       "      <td>0.061426</td>\n",
       "      <td>0.465280</td>\n",
       "      <td>-0.067529</td>\n",
       "    </tr>\n",
       "    <tr>\n",
       "      <th>review_scores_rating</th>\n",
       "      <td>0.038563</td>\n",
       "      <td>0.015436</td>\n",
       "      <td>0.038329</td>\n",
       "      <td>0.049967</td>\n",
       "      <td>0.075342</td>\n",
       "      <td>0.046780</td>\n",
       "      <td>0.038471</td>\n",
       "      <td>-0.007560</td>\n",
       "      <td>0.034132</td>\n",
       "      <td>0.032478</td>\n",
       "      <td>...</td>\n",
       "      <td>1.000000</td>\n",
       "      <td>0.738712</td>\n",
       "      <td>0.697025</td>\n",
       "      <td>0.619723</td>\n",
       "      <td>0.688786</td>\n",
       "      <td>0.542030</td>\n",
       "      <td>0.751702</td>\n",
       "      <td>-0.049948</td>\n",
       "      <td>0.069634</td>\n",
       "      <td>0.039518</td>\n",
       "    </tr>\n",
       "    <tr>\n",
       "      <th>review_scores_accuracy</th>\n",
       "      <td>0.042017</td>\n",
       "      <td>0.003181</td>\n",
       "      <td>0.030942</td>\n",
       "      <td>0.048141</td>\n",
       "      <td>0.066583</td>\n",
       "      <td>0.036947</td>\n",
       "      <td>0.035997</td>\n",
       "      <td>-0.004028</td>\n",
       "      <td>0.027583</td>\n",
       "      <td>0.028161</td>\n",
       "      <td>...</td>\n",
       "      <td>0.738712</td>\n",
       "      <td>1.000000</td>\n",
       "      <td>0.762115</td>\n",
       "      <td>0.716856</td>\n",
       "      <td>0.752291</td>\n",
       "      <td>0.615742</td>\n",
       "      <td>0.806981</td>\n",
       "      <td>-0.062678</td>\n",
       "      <td>0.054468</td>\n",
       "      <td>0.045847</td>\n",
       "    </tr>\n",
       "    <tr>\n",
       "      <th>review_scores_cleanliness</th>\n",
       "      <td>0.039428</td>\n",
       "      <td>-0.001954</td>\n",
       "      <td>0.010354</td>\n",
       "      <td>0.029667</td>\n",
       "      <td>0.055918</td>\n",
       "      <td>0.022367</td>\n",
       "      <td>0.019578</td>\n",
       "      <td>-0.017284</td>\n",
       "      <td>0.006600</td>\n",
       "      <td>0.014985</td>\n",
       "      <td>...</td>\n",
       "      <td>0.697025</td>\n",
       "      <td>0.762115</td>\n",
       "      <td>1.000000</td>\n",
       "      <td>0.619359</td>\n",
       "      <td>0.657006</td>\n",
       "      <td>0.566184</td>\n",
       "      <td>0.770247</td>\n",
       "      <td>-0.060972</td>\n",
       "      <td>0.055678</td>\n",
       "      <td>0.039610</td>\n",
       "    </tr>\n",
       "    <tr>\n",
       "      <th>review_scores_checkin</th>\n",
       "      <td>0.049155</td>\n",
       "      <td>-0.005723</td>\n",
       "      <td>0.024450</td>\n",
       "      <td>0.035674</td>\n",
       "      <td>0.082124</td>\n",
       "      <td>0.030909</td>\n",
       "      <td>0.011818</td>\n",
       "      <td>-0.010205</td>\n",
       "      <td>-0.000642</td>\n",
       "      <td>0.022222</td>\n",
       "      <td>...</td>\n",
       "      <td>0.619723</td>\n",
       "      <td>0.716856</td>\n",
       "      <td>0.619359</td>\n",
       "      <td>1.000000</td>\n",
       "      <td>0.752321</td>\n",
       "      <td>0.536859</td>\n",
       "      <td>0.672800</td>\n",
       "      <td>-0.048268</td>\n",
       "      <td>0.051715</td>\n",
       "      <td>0.005975</td>\n",
       "    </tr>\n",
       "    <tr>\n",
       "      <th>review_scores_communication</th>\n",
       "      <td>0.061000</td>\n",
       "      <td>-0.004523</td>\n",
       "      <td>0.024979</td>\n",
       "      <td>0.032667</td>\n",
       "      <td>0.063885</td>\n",
       "      <td>0.034614</td>\n",
       "      <td>0.022027</td>\n",
       "      <td>-0.013530</td>\n",
       "      <td>0.007506</td>\n",
       "      <td>0.023872</td>\n",
       "      <td>...</td>\n",
       "      <td>0.688786</td>\n",
       "      <td>0.752291</td>\n",
       "      <td>0.657006</td>\n",
       "      <td>0.752321</td>\n",
       "      <td>1.000000</td>\n",
       "      <td>0.558577</td>\n",
       "      <td>0.734475</td>\n",
       "      <td>-0.064912</td>\n",
       "      <td>0.055410</td>\n",
       "      <td>0.021155</td>\n",
       "    </tr>\n",
       "    <tr>\n",
       "      <th>review_scores_location</th>\n",
       "      <td>0.010541</td>\n",
       "      <td>-0.021498</td>\n",
       "      <td>0.021585</td>\n",
       "      <td>0.033178</td>\n",
       "      <td>0.024248</td>\n",
       "      <td>0.024711</td>\n",
       "      <td>0.055481</td>\n",
       "      <td>0.007202</td>\n",
       "      <td>0.054306</td>\n",
       "      <td>-0.001435</td>\n",
       "      <td>...</td>\n",
       "      <td>0.542030</td>\n",
       "      <td>0.615742</td>\n",
       "      <td>0.566184</td>\n",
       "      <td>0.536859</td>\n",
       "      <td>0.558577</td>\n",
       "      <td>1.000000</td>\n",
       "      <td>0.666347</td>\n",
       "      <td>-0.028611</td>\n",
       "      <td>0.001915</td>\n",
       "      <td>0.068229</td>\n",
       "    </tr>\n",
       "    <tr>\n",
       "      <th>review_scores_value</th>\n",
       "      <td>0.050791</td>\n",
       "      <td>-0.005818</td>\n",
       "      <td>0.013445</td>\n",
       "      <td>0.037306</td>\n",
       "      <td>0.055241</td>\n",
       "      <td>0.025714</td>\n",
       "      <td>0.033177</td>\n",
       "      <td>-0.015439</td>\n",
       "      <td>0.015855</td>\n",
       "      <td>0.020766</td>\n",
       "      <td>...</td>\n",
       "      <td>0.751702</td>\n",
       "      <td>0.806981</td>\n",
       "      <td>0.770247</td>\n",
       "      <td>0.672800</td>\n",
       "      <td>0.734475</td>\n",
       "      <td>0.666347</td>\n",
       "      <td>1.000000</td>\n",
       "      <td>-0.082996</td>\n",
       "      <td>0.078925</td>\n",
       "      <td>0.024803</td>\n",
       "    </tr>\n",
       "    <tr>\n",
       "      <th>calculated_host_listings_count</th>\n",
       "      <td>-0.142965</td>\n",
       "      <td>0.107835</td>\n",
       "      <td>-0.015882</td>\n",
       "      <td>-0.021197</td>\n",
       "      <td>-0.053735</td>\n",
       "      <td>-0.036259</td>\n",
       "      <td>-0.076325</td>\n",
       "      <td>-0.050974</td>\n",
       "      <td>0.009090</td>\n",
       "      <td>-0.009685</td>\n",
       "      <td>...</td>\n",
       "      <td>-0.049948</td>\n",
       "      <td>-0.062678</td>\n",
       "      <td>-0.060972</td>\n",
       "      <td>-0.048268</td>\n",
       "      <td>-0.064912</td>\n",
       "      <td>-0.028611</td>\n",
       "      <td>-0.082996</td>\n",
       "      <td>1.000000</td>\n",
       "      <td>0.033335</td>\n",
       "      <td>-0.050674</td>\n",
       "    </tr>\n",
       "    <tr>\n",
       "      <th>reviews_per_month</th>\n",
       "      <td>-0.000819</td>\n",
       "      <td>0.138860</td>\n",
       "      <td>-0.002076</td>\n",
       "      <td>-0.037101</td>\n",
       "      <td>0.001870</td>\n",
       "      <td>0.000339</td>\n",
       "      <td>-0.129955</td>\n",
       "      <td>-0.001827</td>\n",
       "      <td>-0.094886</td>\n",
       "      <td>0.132342</td>\n",
       "      <td>...</td>\n",
       "      <td>0.069634</td>\n",
       "      <td>0.054468</td>\n",
       "      <td>0.055678</td>\n",
       "      <td>0.051715</td>\n",
       "      <td>0.055410</td>\n",
       "      <td>0.001915</td>\n",
       "      <td>0.078925</td>\n",
       "      <td>0.033335</td>\n",
       "      <td>1.000000</td>\n",
       "      <td>-0.122841</td>\n",
       "    </tr>\n",
       "    <tr>\n",
       "      <th>price</th>\n",
       "      <td>-0.036209</td>\n",
       "      <td>-0.029997</td>\n",
       "      <td>0.569570</td>\n",
       "      <td>0.525855</td>\n",
       "      <td>0.530282</td>\n",
       "      <td>0.494212</td>\n",
       "      <td>0.194139</td>\n",
       "      <td>0.063044</td>\n",
       "      <td>0.205051</td>\n",
       "      <td>-0.001719</td>\n",
       "      <td>...</td>\n",
       "      <td>0.039518</td>\n",
       "      <td>0.045847</td>\n",
       "      <td>0.039610</td>\n",
       "      <td>0.005975</td>\n",
       "      <td>0.021155</td>\n",
       "      <td>0.068229</td>\n",
       "      <td>0.024803</td>\n",
       "      <td>-0.050674</td>\n",
       "      <td>-0.122841</td>\n",
       "      <td>1.000000</td>\n",
       "    </tr>\n",
       "  </tbody>\n",
       "</table>\n",
       "<p>25 rows × 25 columns</p>\n",
       "</div>"
      ],
      "text/plain": [
       "                                host_response_rate  host_acceptance_rate  \\\n",
       "host_response_rate                        1.000000             -0.025031   \n",
       "host_acceptance_rate                     -0.025031              1.000000   \n",
       "accommodates                             -0.059593              0.043971   \n",
       "bathrooms                                -0.054043             -0.011153   \n",
       "bedrooms                                 -0.041239              0.018865   \n",
       "beds                                     -0.055503              0.033842   \n",
       "minimum_nights                            0.044233             -0.033710   \n",
       "maximum_nights                            0.036634              0.002362   \n",
       "minimum_nights_avg_ntm                    0.016037             -0.004705   \n",
       "maximum_nights_avg_ntm                    0.048827              0.080030   \n",
       "availability_30                          -0.051133              0.038605   \n",
       "availability_60                          -0.054871              0.060097   \n",
       "availability_90                          -0.061334              0.074045   \n",
       "availability_365                         -0.065070              0.078685   \n",
       "number_of_reviews_ltm                     0.005393              0.124954   \n",
       "review_scores_rating                      0.038563              0.015436   \n",
       "review_scores_accuracy                    0.042017              0.003181   \n",
       "review_scores_cleanliness                 0.039428             -0.001954   \n",
       "review_scores_checkin                     0.049155             -0.005723   \n",
       "review_scores_communication               0.061000             -0.004523   \n",
       "review_scores_location                    0.010541             -0.021498   \n",
       "review_scores_value                       0.050791             -0.005818   \n",
       "calculated_host_listings_count           -0.142965              0.107835   \n",
       "reviews_per_month                        -0.000819              0.138860   \n",
       "price                                    -0.036209             -0.029997   \n",
       "\n",
       "                                accommodates  bathrooms  bedrooms      beds  \\\n",
       "host_response_rate                 -0.059593  -0.054043 -0.041239 -0.055503   \n",
       "host_acceptance_rate                0.043971  -0.011153  0.018865  0.033842   \n",
       "accommodates                        1.000000   0.612476  0.715715  0.749266   \n",
       "bathrooms                           0.612476   1.000000  0.629524  0.569377   \n",
       "bedrooms                            0.715715   0.629524  1.000000  0.755618   \n",
       "beds                                0.749266   0.569377  0.755618  1.000000   \n",
       "minimum_nights                      0.177419   0.152977  0.143851  0.156520   \n",
       "maximum_nights                      0.065197   0.050226  0.047556  0.063185   \n",
       "minimum_nights_avg_ntm              0.204665   0.173961  0.166376  0.171252   \n",
       "maximum_nights_avg_ntm              0.050492   0.041347  0.036210  0.056515   \n",
       "availability_30                     0.082546   0.046668  0.067747  0.065735   \n",
       "availability_60                     0.087738   0.045023  0.065548  0.070127   \n",
       "availability_90                     0.086734   0.042603  0.064406  0.072474   \n",
       "availability_365                    0.068702   0.058963  0.072976  0.066258   \n",
       "number_of_reviews_ltm               0.042857  -0.003561  0.035817  0.042651   \n",
       "review_scores_rating                0.038329   0.049967  0.075342  0.046780   \n",
       "review_scores_accuracy              0.030942   0.048141  0.066583  0.036947   \n",
       "review_scores_cleanliness           0.010354   0.029667  0.055918  0.022367   \n",
       "review_scores_checkin               0.024450   0.035674  0.082124  0.030909   \n",
       "review_scores_communication         0.024979   0.032667  0.063885  0.034614   \n",
       "review_scores_location              0.021585   0.033178  0.024248  0.024711   \n",
       "review_scores_value                 0.013445   0.037306  0.055241  0.025714   \n",
       "calculated_host_listings_count     -0.015882  -0.021197 -0.053735 -0.036259   \n",
       "reviews_per_month                  -0.002076  -0.037101  0.001870  0.000339   \n",
       "price                               0.569570   0.525855  0.530282  0.494212   \n",
       "\n",
       "                                minimum_nights  maximum_nights  \\\n",
       "host_response_rate                    0.044233        0.036634   \n",
       "host_acceptance_rate                 -0.033710        0.002362   \n",
       "accommodates                          0.177419        0.065197   \n",
       "bathrooms                             0.152977        0.050226   \n",
       "bedrooms                              0.143851        0.047556   \n",
       "beds                                  0.156520        0.063185   \n",
       "minimum_nights                        1.000000        0.049684   \n",
       "maximum_nights                        0.049684        1.000000   \n",
       "minimum_nights_avg_ntm                0.799854        0.017311   \n",
       "maximum_nights_avg_ntm                0.011866        0.560713   \n",
       "availability_30                      -0.032401        0.000027   \n",
       "availability_60                      -0.035623       -0.008493   \n",
       "availability_90                      -0.033230       -0.008738   \n",
       "availability_365                     -0.022743        0.064475   \n",
       "number_of_reviews_ltm                -0.010306        0.085938   \n",
       "review_scores_rating                  0.038471       -0.007560   \n",
       "review_scores_accuracy                0.035997       -0.004028   \n",
       "review_scores_cleanliness             0.019578       -0.017284   \n",
       "review_scores_checkin                 0.011818       -0.010205   \n",
       "review_scores_communication           0.022027       -0.013530   \n",
       "review_scores_location                0.055481        0.007202   \n",
       "review_scores_value                   0.033177       -0.015439   \n",
       "calculated_host_listings_count       -0.076325       -0.050974   \n",
       "reviews_per_month                    -0.129955       -0.001827   \n",
       "price                                 0.194139        0.063044   \n",
       "\n",
       "                                minimum_nights_avg_ntm  \\\n",
       "host_response_rate                            0.016037   \n",
       "host_acceptance_rate                         -0.004705   \n",
       "accommodates                                  0.204665   \n",
       "bathrooms                                     0.173961   \n",
       "bedrooms                                      0.166376   \n",
       "beds                                          0.171252   \n",
       "minimum_nights                                0.799854   \n",
       "maximum_nights                                0.017311   \n",
       "minimum_nights_avg_ntm                        1.000000   \n",
       "maximum_nights_avg_ntm                       -0.018512   \n",
       "availability_30                              -0.011331   \n",
       "availability_60                              -0.000167   \n",
       "availability_90                               0.005974   \n",
       "availability_365                             -0.000231   \n",
       "number_of_reviews_ltm                         0.007833   \n",
       "review_scores_rating                          0.034132   \n",
       "review_scores_accuracy                        0.027583   \n",
       "review_scores_cleanliness                     0.006600   \n",
       "review_scores_checkin                        -0.000642   \n",
       "review_scores_communication                   0.007506   \n",
       "review_scores_location                        0.054306   \n",
       "review_scores_value                           0.015855   \n",
       "calculated_host_listings_count                0.009090   \n",
       "reviews_per_month                            -0.094886   \n",
       "price                                         0.205051   \n",
       "\n",
       "                                maximum_nights_avg_ntm  ...  \\\n",
       "host_response_rate                            0.048827  ...   \n",
       "host_acceptance_rate                          0.080030  ...   \n",
       "accommodates                                  0.050492  ...   \n",
       "bathrooms                                     0.041347  ...   \n",
       "bedrooms                                      0.036210  ...   \n",
       "beds                                          0.056515  ...   \n",
       "minimum_nights                                0.011866  ...   \n",
       "maximum_nights                                0.560713  ...   \n",
       "minimum_nights_avg_ntm                       -0.018512  ...   \n",
       "maximum_nights_avg_ntm                        1.000000  ...   \n",
       "availability_30                              -0.025830  ...   \n",
       "availability_60                              -0.015892  ...   \n",
       "availability_90                              -0.005985  ...   \n",
       "availability_365                              0.026075  ...   \n",
       "number_of_reviews_ltm                         0.201633  ...   \n",
       "review_scores_rating                          0.032478  ...   \n",
       "review_scores_accuracy                        0.028161  ...   \n",
       "review_scores_cleanliness                     0.014985  ...   \n",
       "review_scores_checkin                         0.022222  ...   \n",
       "review_scores_communication                   0.023872  ...   \n",
       "review_scores_location                       -0.001435  ...   \n",
       "review_scores_value                           0.020766  ...   \n",
       "calculated_host_listings_count               -0.009685  ...   \n",
       "reviews_per_month                             0.132342  ...   \n",
       "price                                        -0.001719  ...   \n",
       "\n",
       "                                review_scores_rating  review_scores_accuracy  \\\n",
       "host_response_rate                          0.038563                0.042017   \n",
       "host_acceptance_rate                        0.015436                0.003181   \n",
       "accommodates                                0.038329                0.030942   \n",
       "bathrooms                                   0.049967                0.048141   \n",
       "bedrooms                                    0.075342                0.066583   \n",
       "beds                                        0.046780                0.036947   \n",
       "minimum_nights                              0.038471                0.035997   \n",
       "maximum_nights                             -0.007560               -0.004028   \n",
       "minimum_nights_avg_ntm                      0.034132                0.027583   \n",
       "maximum_nights_avg_ntm                      0.032478                0.028161   \n",
       "availability_30                            -0.017784               -0.038387   \n",
       "availability_60                            -0.019086               -0.039942   \n",
       "availability_90                            -0.015673               -0.037409   \n",
       "availability_365                           -0.010412               -0.035154   \n",
       "number_of_reviews_ltm                       0.074308                0.057780   \n",
       "review_scores_rating                        1.000000                0.738712   \n",
       "review_scores_accuracy                      0.738712                1.000000   \n",
       "review_scores_cleanliness                   0.697025                0.762115   \n",
       "review_scores_checkin                       0.619723                0.716856   \n",
       "review_scores_communication                 0.688786                0.752291   \n",
       "review_scores_location                      0.542030                0.615742   \n",
       "review_scores_value                         0.751702                0.806981   \n",
       "calculated_host_listings_count             -0.049948               -0.062678   \n",
       "reviews_per_month                           0.069634                0.054468   \n",
       "price                                       0.039518                0.045847   \n",
       "\n",
       "                                review_scores_cleanliness  \\\n",
       "host_response_rate                               0.039428   \n",
       "host_acceptance_rate                            -0.001954   \n",
       "accommodates                                     0.010354   \n",
       "bathrooms                                        0.029667   \n",
       "bedrooms                                         0.055918   \n",
       "beds                                             0.022367   \n",
       "minimum_nights                                   0.019578   \n",
       "maximum_nights                                  -0.017284   \n",
       "minimum_nights_avg_ntm                           0.006600   \n",
       "maximum_nights_avg_ntm                           0.014985   \n",
       "availability_30                                 -0.035256   \n",
       "availability_60                                 -0.039577   \n",
       "availability_90                                 -0.039500   \n",
       "availability_365                                -0.032453   \n",
       "number_of_reviews_ltm                            0.050354   \n",
       "review_scores_rating                             0.697025   \n",
       "review_scores_accuracy                           0.762115   \n",
       "review_scores_cleanliness                        1.000000   \n",
       "review_scores_checkin                            0.619359   \n",
       "review_scores_communication                      0.657006   \n",
       "review_scores_location                           0.566184   \n",
       "review_scores_value                              0.770247   \n",
       "calculated_host_listings_count                  -0.060972   \n",
       "reviews_per_month                                0.055678   \n",
       "price                                            0.039610   \n",
       "\n",
       "                                review_scores_checkin  \\\n",
       "host_response_rate                           0.049155   \n",
       "host_acceptance_rate                        -0.005723   \n",
       "accommodates                                 0.024450   \n",
       "bathrooms                                    0.035674   \n",
       "bedrooms                                     0.082124   \n",
       "beds                                         0.030909   \n",
       "minimum_nights                               0.011818   \n",
       "maximum_nights                              -0.010205   \n",
       "minimum_nights_avg_ntm                      -0.000642   \n",
       "maximum_nights_avg_ntm                       0.022222   \n",
       "availability_30                             -0.022705   \n",
       "availability_60                             -0.022356   \n",
       "availability_90                             -0.020371   \n",
       "availability_365                            -0.017725   \n",
       "number_of_reviews_ltm                        0.049086   \n",
       "review_scores_rating                         0.619723   \n",
       "review_scores_accuracy                       0.716856   \n",
       "review_scores_cleanliness                    0.619359   \n",
       "review_scores_checkin                        1.000000   \n",
       "review_scores_communication                  0.752321   \n",
       "review_scores_location                       0.536859   \n",
       "review_scores_value                          0.672800   \n",
       "calculated_host_listings_count              -0.048268   \n",
       "reviews_per_month                            0.051715   \n",
       "price                                        0.005975   \n",
       "\n",
       "                                review_scores_communication  \\\n",
       "host_response_rate                                 0.061000   \n",
       "host_acceptance_rate                              -0.004523   \n",
       "accommodates                                       0.024979   \n",
       "bathrooms                                          0.032667   \n",
       "bedrooms                                           0.063885   \n",
       "beds                                               0.034614   \n",
       "minimum_nights                                     0.022027   \n",
       "maximum_nights                                    -0.013530   \n",
       "minimum_nights_avg_ntm                             0.007506   \n",
       "maximum_nights_avg_ntm                             0.023872   \n",
       "availability_30                                   -0.031816   \n",
       "availability_60                                   -0.030481   \n",
       "availability_90                                   -0.028599   \n",
       "availability_365                                  -0.036018   \n",
       "number_of_reviews_ltm                              0.056463   \n",
       "review_scores_rating                               0.688786   \n",
       "review_scores_accuracy                             0.752291   \n",
       "review_scores_cleanliness                          0.657006   \n",
       "review_scores_checkin                              0.752321   \n",
       "review_scores_communication                        1.000000   \n",
       "review_scores_location                             0.558577   \n",
       "review_scores_value                                0.734475   \n",
       "calculated_host_listings_count                    -0.064912   \n",
       "reviews_per_month                                  0.055410   \n",
       "price                                              0.021155   \n",
       "\n",
       "                                review_scores_location  review_scores_value  \\\n",
       "host_response_rate                            0.010541             0.050791   \n",
       "host_acceptance_rate                         -0.021498            -0.005818   \n",
       "accommodates                                  0.021585             0.013445   \n",
       "bathrooms                                     0.033178             0.037306   \n",
       "bedrooms                                      0.024248             0.055241   \n",
       "beds                                          0.024711             0.025714   \n",
       "minimum_nights                                0.055481             0.033177   \n",
       "maximum_nights                                0.007202            -0.015439   \n",
       "minimum_nights_avg_ntm                        0.054306             0.015855   \n",
       "maximum_nights_avg_ntm                       -0.001435             0.020766   \n",
       "availability_30                              -0.020250            -0.054325   \n",
       "availability_60                              -0.027735            -0.057756   \n",
       "availability_90                              -0.026160            -0.056462   \n",
       "availability_365                             -0.006774            -0.044537   \n",
       "number_of_reviews_ltm                         0.005498             0.064377   \n",
       "review_scores_rating                          0.542030             0.751702   \n",
       "review_scores_accuracy                        0.615742             0.806981   \n",
       "review_scores_cleanliness                     0.566184             0.770247   \n",
       "review_scores_checkin                         0.536859             0.672800   \n",
       "review_scores_communication                   0.558577             0.734475   \n",
       "review_scores_location                        1.000000             0.666347   \n",
       "review_scores_value                           0.666347             1.000000   \n",
       "calculated_host_listings_count               -0.028611            -0.082996   \n",
       "reviews_per_month                             0.001915             0.078925   \n",
       "price                                         0.068229             0.024803   \n",
       "\n",
       "                                calculated_host_listings_count  \\\n",
       "host_response_rate                                   -0.142965   \n",
       "host_acceptance_rate                                  0.107835   \n",
       "accommodates                                         -0.015882   \n",
       "bathrooms                                            -0.021197   \n",
       "bedrooms                                             -0.053735   \n",
       "beds                                                 -0.036259   \n",
       "minimum_nights                                       -0.076325   \n",
       "maximum_nights                                       -0.050974   \n",
       "minimum_nights_avg_ntm                                0.009090   \n",
       "maximum_nights_avg_ntm                               -0.009685   \n",
       "availability_30                                       0.104945   \n",
       "availability_60                                       0.121884   \n",
       "availability_90                                       0.133392   \n",
       "availability_365                                      0.107671   \n",
       "number_of_reviews_ltm                                 0.061426   \n",
       "review_scores_rating                                 -0.049948   \n",
       "review_scores_accuracy                               -0.062678   \n",
       "review_scores_cleanliness                            -0.060972   \n",
       "review_scores_checkin                                -0.048268   \n",
       "review_scores_communication                          -0.064912   \n",
       "review_scores_location                               -0.028611   \n",
       "review_scores_value                                  -0.082996   \n",
       "calculated_host_listings_count                        1.000000   \n",
       "reviews_per_month                                     0.033335   \n",
       "price                                                -0.050674   \n",
       "\n",
       "                                reviews_per_month     price  \n",
       "host_response_rate                      -0.000819 -0.036209  \n",
       "host_acceptance_rate                     0.138860 -0.029997  \n",
       "accommodates                            -0.002076  0.569570  \n",
       "bathrooms                               -0.037101  0.525855  \n",
       "bedrooms                                 0.001870  0.530282  \n",
       "beds                                     0.000339  0.494212  \n",
       "minimum_nights                          -0.129955  0.194139  \n",
       "maximum_nights                          -0.001827  0.063044  \n",
       "minimum_nights_avg_ntm                  -0.094886  0.205051  \n",
       "maximum_nights_avg_ntm                   0.132342 -0.001719  \n",
       "availability_30                         -0.008818  0.091101  \n",
       "availability_60                          0.028518  0.069610  \n",
       "availability_90                          0.046682  0.061754  \n",
       "availability_365                         0.014878  0.067653  \n",
       "number_of_reviews_ltm                    0.465280 -0.067529  \n",
       "review_scores_rating                     0.069634  0.039518  \n",
       "review_scores_accuracy                   0.054468  0.045847  \n",
       "review_scores_cleanliness                0.055678  0.039610  \n",
       "review_scores_checkin                    0.051715  0.005975  \n",
       "review_scores_communication              0.055410  0.021155  \n",
       "review_scores_location                   0.001915  0.068229  \n",
       "review_scores_value                      0.078925  0.024803  \n",
       "calculated_host_listings_count           0.033335 -0.050674  \n",
       "reviews_per_month                        1.000000 -0.122841  \n",
       "price                                   -0.122841  1.000000  \n",
       "\n",
       "[25 rows x 25 columns]"
      ]
     },
     "execution_count": 125,
     "metadata": {},
     "output_type": "execute_result"
    }
   ],
   "source": [
    "#Encontramos todas las correlaciones entre las variables \n",
    "correlacion=dfn.corr()\n",
    "correlacion"
   ]
  },
  {
   "cell_type": "code",
   "execution_count": 122,
   "metadata": {},
   "outputs": [
    {
     "data": {
      "image/png": "[encoded data removed]",
      "text/plain": [
       "<Figure size 1080x576 with 2 Axes>"
      ]
     },
     "metadata": {
      "needs_background": "light"
     },
     "output_type": "display_data"
    }
   ],
   "source": [
    "#A partir de este diagrmaa de calor es posible identificar correlaciones entre variables que serán exploradas a mayor profundidad en \n",
    "#el siguiente software que será utilizado. \n",
    "factores= abs(correlacion)\n",
    "plt.figure(figsize=(15,8))\n",
    "heat_map=sns.heatmap(factores,cmap=\"coolwarm\",annot=True)"
   ]
  },
  {
   "cell_type": "code",
   "execution_count": 126,
   "metadata": {},
   "outputs": [],
   "source": [
    "#Convertir base de datos limpia a csv\n",
    "dfn.to_csv(\"datosnumericosFL.csv\")"
   ]
  },
  {
   "cell_type": "code",
   "execution_count": 127,
   "metadata": {},
   "outputs": [],
   "source": [
    "factores.to_excel(\"factoresFL.xlsx\")"
   ]
  }
 ],
 "metadata": {
  "kernelspec": {
   "display_name": "Python 3.10.6 64-bit",
   "language": "python",
   "name": "python3"
  },
  "language_info": {
   "codemirror_mode": {
    "name": "ipython",
    "version": 3
   },
   "file_extension": ".py",
   "mimetype": "text/x-python",
   "name": "python",
   "nbconvert_exporter": "python",
   "pygments_lexer": "ipython3",
   "version": "3.10.6"
  },
  "orig_nbformat": 4,
  "vscode": {
   "interpreter": {
    "hash": "aee8b7b246df8f9039afb4144a1f6fd8d2ca17a180786b69acc140d282b71a49"
   }
  }
 },
 "nbformat": 4,
 "nbformat_minor": 2
}
